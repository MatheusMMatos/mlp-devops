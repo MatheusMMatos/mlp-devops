{
  "nbformat": 4,
  "nbformat_minor": 0,
  "metadata": {
    "colab": {
      "name": "Inadimplentes?.ipynb",
      "provenance": [],
      "collapsed_sections": [
        "j-vcW1RwAzhc",
        "OysAkpgQB2gf",
        "a9PzOXKHIz1u",
        "7NI_SpIFmiHF",
        "Clvp1Bjsun3j"
      ]
    },
    "kernelspec": {
      "name": "python3",
      "display_name": "Python 3"
    },
    "language_info": {
      "name": "python"
    }
  },
  "cells": [
    {
      "cell_type": "markdown",
      "metadata": {
        "id": "j-vcW1RwAzhc"
      },
      "source": [
        "# GDrive Settings"
      ]
    },
    {
      "cell_type": "code",
      "metadata": {
        "colab": {
          "base_uri": "https://localhost:8080/"
        },
        "id": "oNXymjFf_wyA",
        "outputId": "60194db5-67b7-44b6-9d6d-10199669270a"
      },
      "source": [
        "# mount google drive\n",
        "from google.colab import drive\n",
        "drive.mount('/content/gdrive')"
      ],
      "execution_count": 3,
      "outputs": [
        {
          "output_type": "stream",
          "name": "stdout",
          "text": [
            "Mounted at /content/gdrive\n"
          ]
        }
      ]
    },
    {
      "cell_type": "code",
      "metadata": {
        "colab": {
          "base_uri": "https://localhost:8080/"
        },
        "id": "hYd3hKktA7F-",
        "outputId": "c4cc6f3d-7648-4dcc-f2bc-c4e9de08a855"
      },
      "source": [
        "# change working directory\n",
        "%cd /content/gdrive/My Drive/DS\\ para\\ Negocios/"
      ],
      "execution_count": 4,
      "outputs": [
        {
          "output_type": "stream",
          "name": "stdout",
          "text": [
            "/content/gdrive/My Drive/DS para Negocios\n"
          ]
        }
      ]
    },
    {
      "cell_type": "markdown",
      "metadata": {
        "id": "OysAkpgQB2gf"
      },
      "source": [
        "# Libraries"
      ]
    },
    {
      "cell_type": "code",
      "metadata": {
        "id": "pBhYt4t2B4qo",
        "colab": {
          "base_uri": "https://localhost:8080/"
        },
        "outputId": "ef3f37ec-8178-40d1-b2ad-d1d657b218ed"
      },
      "source": [
        "import pandas as pd\n",
        "import matplotlib.pyplot as plt\n",
        "import seaborn as sns\n",
        "import numpy as np\n",
        "\n",
        "from xgboost import XGBClassifier\n",
        "\n",
        "from imblearn.under_sampling import RandomUnderSampler\n",
        "from imblearn.over_sampling import RandomOverSampler\n",
        "\n",
        "from sklearn.impute import SimpleImputer\n",
        "from sklearn.feature_extraction.text import CountVectorizer\n",
        "from sklearn.preprocessing import StandardScaler, LabelEncoder\n",
        "from sklearn.model_selection import train_test_split, GridSearchCV, KFold, cross_val_score, StratifiedKFold, cross_validate\n",
        "from sklearn.metrics import roc_auc_score, confusion_matrix, classification_report, plot_confusion_matrix, accuracy_score, f1_score\n",
        "from sklearn.pipeline import make_pipeline\n",
        "from sklearn.compose import ColumnTransformer\n",
        "from sklearn.utils import resample\n",
        "from sklearn.ensemble import RandomForestClassifier\n",
        "from sklearn.linear_model import LogisticRegression\n",
        "from sklearn.tree import DecisionTreeClassifier\n",
        "from sklearn.svm import SVC\n",
        "from sklearn.neighbors import KNeighborsClassifier\n",
        "from lightgbm import LGBMClassifier\n",
        "from sklearn.feature_selection import SelectFromModel\n",
        "\n",
        "import pickle\n",
        "\n",
        "# no warning message\n",
        "import warnings\n",
        "warnings.filterwarnings('ignore')\n",
        "\n",
        "sns.set()\n",
        "%matplotlib inline"
      ],
      "execution_count": 5,
      "outputs": [
        {
          "output_type": "stream",
          "name": "stderr",
          "text": [
            "/usr/local/lib/python3.7/dist-packages/sklearn/externals/six.py:31: FutureWarning: The module is deprecated in version 0.21 and will be removed in version 0.23 since we've dropped support for Python 2.7. Please rely on the official version of six (https://pypi.org/project/six/).\n",
            "  \"(https://pypi.org/project/six/).\", FutureWarning)\n",
            "/usr/local/lib/python3.7/dist-packages/sklearn/utils/deprecation.py:144: FutureWarning: The sklearn.neighbors.base module is  deprecated in version 0.22 and will be removed in version 0.24. The corresponding classes / functions should instead be imported from sklearn.neighbors. Anything that cannot be imported from sklearn.neighbors is now part of the private API.\n",
            "  warnings.warn(message, FutureWarning)\n"
          ]
        }
      ]
    },
    {
      "cell_type": "markdown",
      "metadata": {
        "id": "l3Zz2mygFn6X"
      },
      "source": [
        "# Data Analysis"
      ]
    },
    {
      "cell_type": "code",
      "metadata": {
        "colab": {
          "base_uri": "https://localhost:8080/",
          "height": 434
        },
        "id": "QNo3WkVCFwsW",
        "outputId": "a8c2caa7-aeb9-4fe0-a064-31fc00539c05"
      },
      "source": [
        "# load dataset\n",
        "df_credit_risk = pd.read_csv(\"acquisition_train.csv\")\n",
        "\n",
        "print(f'Shape of dataset {df_credit_risk.shape}')\n",
        "df_credit_risk.head(3)"
      ],
      "execution_count": 26,
      "outputs": [
        {
          "output_type": "stream",
          "name": "stdout",
          "text": [
            "Shape of dataset (45000, 43)\n"
          ]
        },
        {
          "output_type": "execute_result",
          "data": {
            "text/html": [
              "<div>\n",
              "<style scoped>\n",
              "    .dataframe tbody tr th:only-of-type {\n",
              "        vertical-align: middle;\n",
              "    }\n",
              "\n",
              "    .dataframe tbody tr th {\n",
              "        vertical-align: top;\n",
              "    }\n",
              "\n",
              "    .dataframe thead th {\n",
              "        text-align: right;\n",
              "    }\n",
              "</style>\n",
              "<table border=\"1\" class=\"dataframe\">\n",
              "  <thead>\n",
              "    <tr style=\"text-align: right;\">\n",
              "      <th></th>\n",
              "      <th>ids</th>\n",
              "      <th>target_default</th>\n",
              "      <th>score_1</th>\n",
              "      <th>score_2</th>\n",
              "      <th>score_3</th>\n",
              "      <th>score_4</th>\n",
              "      <th>score_5</th>\n",
              "      <th>score_6</th>\n",
              "      <th>risk_rate</th>\n",
              "      <th>last_amount_borrowed</th>\n",
              "      <th>last_borrowed_in_months</th>\n",
              "      <th>credit_limit</th>\n",
              "      <th>reason</th>\n",
              "      <th>income</th>\n",
              "      <th>facebook_profile</th>\n",
              "      <th>state</th>\n",
              "      <th>zip</th>\n",
              "      <th>channel</th>\n",
              "      <th>job_name</th>\n",
              "      <th>real_state</th>\n",
              "      <th>ok_since</th>\n",
              "      <th>n_bankruptcies</th>\n",
              "      <th>n_defaulted_loans</th>\n",
              "      <th>n_accounts</th>\n",
              "      <th>n_issues</th>\n",
              "      <th>application_time_applied</th>\n",
              "      <th>application_time_in_funnel</th>\n",
              "      <th>email</th>\n",
              "      <th>external_data_provider_credit_checks_last_2_year</th>\n",
              "      <th>external_data_provider_credit_checks_last_month</th>\n",
              "      <th>external_data_provider_credit_checks_last_year</th>\n",
              "      <th>external_data_provider_email_seen_before</th>\n",
              "      <th>external_data_provider_first_name</th>\n",
              "      <th>external_data_provider_fraud_score</th>\n",
              "      <th>lat_lon</th>\n",
              "      <th>marketing_channel</th>\n",
              "      <th>profile_phone_number</th>\n",
              "      <th>reported_income</th>\n",
              "      <th>shipping_state</th>\n",
              "      <th>shipping_zip_code</th>\n",
              "      <th>profile_tags</th>\n",
              "      <th>user_agent</th>\n",
              "      <th>target_fraud</th>\n",
              "    </tr>\n",
              "  </thead>\n",
              "  <tbody>\n",
              "    <tr>\n",
              "      <th>0</th>\n",
              "      <td>343b7e7b-2cf8-e508-b8fd-0a0285af30aa</td>\n",
              "      <td>False</td>\n",
              "      <td>1Rk8w4Ucd5yR3KcqZzLdow==</td>\n",
              "      <td>IOVu8au3ISbo6+zmfnYwMg==</td>\n",
              "      <td>350.0</td>\n",
              "      <td>101.800832</td>\n",
              "      <td>0.259555</td>\n",
              "      <td>108.427273</td>\n",
              "      <td>0.40</td>\n",
              "      <td>25033.92</td>\n",
              "      <td>36.0</td>\n",
              "      <td>0.0</td>\n",
              "      <td>mLVIVxoGY7TUDJ1FyFoSIZi1SFcaBmO01AydRchaEiGYtU...</td>\n",
              "      <td>65014.12</td>\n",
              "      <td>True</td>\n",
              "      <td>sjJbkqJS7cXalHLBFA+EOQ==</td>\n",
              "      <td>Ernn+uVXCMq/6ARrBCcd+A==</td>\n",
              "      <td>NCqL3QBx0pscDnx3ixKwXg==</td>\n",
              "      <td>mLVIVxoGY7TUDJ1FyFoSIZi1SFcaBmO01AydRchaEiGYtU...</td>\n",
              "      <td>N5/CE7lSkAfB04hVFFwllw==</td>\n",
              "      <td>NaN</td>\n",
              "      <td>0.0</td>\n",
              "      <td>0.0</td>\n",
              "      <td>18.0</td>\n",
              "      <td>18.0</td>\n",
              "      <td>07:52:34</td>\n",
              "      <td>444</td>\n",
              "      <td>outlook.com</td>\n",
              "      <td>NaN</td>\n",
              "      <td>2</td>\n",
              "      <td>0.0</td>\n",
              "      <td>51.0</td>\n",
              "      <td>leidelaura</td>\n",
              "      <td>645</td>\n",
              "      <td>(-29.151545708122246, -51.1386461804385)</td>\n",
              "      <td>Invite-email</td>\n",
              "      <td>514-9840782</td>\n",
              "      <td>57849.0</td>\n",
              "      <td>BR-MT</td>\n",
              "      <td>17528</td>\n",
              "      <td>{'tags': ['n19', 'n8']}</td>\n",
              "      <td>Mozilla/5.0 (Linux; Android 6.0.1; SGP771 Buil...</td>\n",
              "      <td>NaN</td>\n",
              "    </tr>\n",
              "    <tr>\n",
              "      <th>1</th>\n",
              "      <td>bc2c7502-bbad-0f8c-39c3-94e881967124</td>\n",
              "      <td>False</td>\n",
              "      <td>DGCQep2AE5QRkNCshIAlFQ==</td>\n",
              "      <td>SaamrHMo23l/3TwXOWgVzw==</td>\n",
              "      <td>370.0</td>\n",
              "      <td>97.062615</td>\n",
              "      <td>0.942655</td>\n",
              "      <td>92.002546</td>\n",
              "      <td>0.24</td>\n",
              "      <td>NaN</td>\n",
              "      <td>NaN</td>\n",
              "      <td>39726.0</td>\n",
              "      <td>mLVIVxoGY7TUDJ1FyFoSIZi1SFcaBmO01AydRchaEiGYtU...</td>\n",
              "      <td>100018.91</td>\n",
              "      <td>False</td>\n",
              "      <td>xsd3ZdsI3356I3xMxZeiqQ==</td>\n",
              "      <td>rlWIXTBO+VOa34+SpGyhlQ==</td>\n",
              "      <td>NCqL3QBx0pscDnx3ixKwXg==</td>\n",
              "      <td>mLVIVxoGY7TUDJ1FyFoSIZi1SFcaBmO01AydRchaEiGYtU...</td>\n",
              "      <td>N5/CE7lSkAfB04hVFFwllw==</td>\n",
              "      <td>50.0</td>\n",
              "      <td>0.0</td>\n",
              "      <td>0.0</td>\n",
              "      <td>14.0</td>\n",
              "      <td>14.0</td>\n",
              "      <td>02:34:29</td>\n",
              "      <td>346</td>\n",
              "      <td>gmail.com</td>\n",
              "      <td>0.0</td>\n",
              "      <td>1</td>\n",
              "      <td>0.0</td>\n",
              "      <td>17.0</td>\n",
              "      <td>diocezio</td>\n",
              "      <td>243</td>\n",
              "      <td>(-19.687710705798963, -47.94151536525154)</td>\n",
              "      <td>Radio-commercial</td>\n",
              "      <td>251-3659293</td>\n",
              "      <td>4902.0</td>\n",
              "      <td>BR-RS</td>\n",
              "      <td>40933</td>\n",
              "      <td>{'tags': ['n6', 'n7', 'nim']}</td>\n",
              "      <td>Mozilla/5.0 (Linux; Android 5.0.2; SAMSUNG SM-...</td>\n",
              "      <td>NaN</td>\n",
              "    </tr>\n",
              "    <tr>\n",
              "      <th>2</th>\n",
              "      <td>669630dd-2e6a-0396-84bf-455e5009c922</td>\n",
              "      <td>True</td>\n",
              "      <td>DGCQep2AE5QRkNCshIAlFQ==</td>\n",
              "      <td>Fv28Bz0YRTVAT5kl1bAV6g==</td>\n",
              "      <td>360.0</td>\n",
              "      <td>100.027073</td>\n",
              "      <td>0.351918</td>\n",
              "      <td>112.892453</td>\n",
              "      <td>0.29</td>\n",
              "      <td>7207.92</td>\n",
              "      <td>36.0</td>\n",
              "      <td>NaN</td>\n",
              "      <td>mLVIVxoGY7TUDJ1FyFoSIZi1SFcaBmO01AydRchaEiGYtU...</td>\n",
              "      <td>65023.65</td>\n",
              "      <td>NaN</td>\n",
              "      <td>Ygq6MsM98oC8yceExr69Ig==</td>\n",
              "      <td>PjTIDfJsK0DKL9fO7vuW2g==</td>\n",
              "      <td>NCqL3QBx0pscDnx3ixKwXg==</td>\n",
              "      <td>mLVIVxoGY7TUDJ1FyFoSIZi1SFcaBmO01AydRchaEiGYtU...</td>\n",
              "      <td>n+xK9CfX0bCn77lClTWviw==</td>\n",
              "      <td>NaN</td>\n",
              "      <td>0.0</td>\n",
              "      <td>0.0</td>\n",
              "      <td>10.0</td>\n",
              "      <td>NaN</td>\n",
              "      <td>00:60:02</td>\n",
              "      <td>6</td>\n",
              "      <td>gmail.com</td>\n",
              "      <td>NaN</td>\n",
              "      <td>2</td>\n",
              "      <td>NaN</td>\n",
              "      <td>9.0</td>\n",
              "      <td>veralucia</td>\n",
              "      <td>65</td>\n",
              "      <td>(-28.748023890412284, -51.867279334353995)</td>\n",
              "      <td>Waiting-list</td>\n",
              "      <td>230-6097993</td>\n",
              "      <td>163679.0</td>\n",
              "      <td>BR-RR</td>\n",
              "      <td>50985</td>\n",
              "      <td>{'tags': ['n0', 'n17', 'nim', 'da']}</td>\n",
              "      <td>Mozilla/5.0 (Linux; Android 6.0.1; SGP771 Buil...</td>\n",
              "      <td>NaN</td>\n",
              "    </tr>\n",
              "  </tbody>\n",
              "</table>\n",
              "</div>"
            ],
            "text/plain": [
              "                                    ids  ... target_fraud\n",
              "0  343b7e7b-2cf8-e508-b8fd-0a0285af30aa  ...          NaN\n",
              "1  bc2c7502-bbad-0f8c-39c3-94e881967124  ...          NaN\n",
              "2  669630dd-2e6a-0396-84bf-455e5009c922  ...          NaN\n",
              "\n",
              "[3 rows x 43 columns]"
            ]
          },
          "metadata": {},
          "execution_count": 26
        }
      ]
    },
    {
      "cell_type": "markdown",
      "metadata": {
        "id": "nQhIvcztVsCI"
      },
      "source": [
        "## Info"
      ]
    },
    {
      "cell_type": "code",
      "metadata": {
        "colab": {
          "base_uri": "https://localhost:8080/"
        },
        "id": "X7kuDSilHAZ2",
        "outputId": "9836635d-7903-498c-c5c2-1b8e17e1b01a"
      },
      "source": [
        "# info dataset\n",
        "df_credit_risk.info()"
      ],
      "execution_count": 27,
      "outputs": [
        {
          "output_type": "stream",
          "name": "stdout",
          "text": [
            "<class 'pandas.core.frame.DataFrame'>\n",
            "RangeIndex: 45000 entries, 0 to 44999\n",
            "Data columns (total 43 columns):\n",
            " #   Column                                            Non-Null Count  Dtype  \n",
            "---  ------                                            --------------  -----  \n",
            " 0   ids                                               45000 non-null  object \n",
            " 1   target_default                                    41741 non-null  object \n",
            " 2   score_1                                           44438 non-null  object \n",
            " 3   score_2                                           44438 non-null  object \n",
            " 4   score_3                                           44438 non-null  float64\n",
            " 5   score_4                                           45000 non-null  float64\n",
            " 6   score_5                                           45000 non-null  float64\n",
            " 7   score_6                                           45000 non-null  float64\n",
            " 8   risk_rate                                         44438 non-null  float64\n",
            " 9   last_amount_borrowed                              15044 non-null  float64\n",
            " 10  last_borrowed_in_months                           15044 non-null  float64\n",
            " 11  credit_limit                                      31200 non-null  float64\n",
            " 12  reason                                            44434 non-null  object \n",
            " 13  income                                            44438 non-null  float64\n",
            " 14  facebook_profile                                  40542 non-null  object \n",
            " 15  state                                             44438 non-null  object \n",
            " 16  zip                                               44438 non-null  object \n",
            " 17  channel                                           44438 non-null  object \n",
            " 18  job_name                                          41664 non-null  object \n",
            " 19  real_state                                        44438 non-null  object \n",
            " 20  ok_since                                          18455 non-null  float64\n",
            " 21  n_bankruptcies                                    44303 non-null  float64\n",
            " 22  n_defaulted_loans                                 44426 non-null  float64\n",
            " 23  n_accounts                                        44438 non-null  float64\n",
            " 24  n_issues                                          33456 non-null  float64\n",
            " 25  application_time_applied                          45000 non-null  object \n",
            " 26  application_time_in_funnel                        45000 non-null  int64  \n",
            " 27  email                                             45000 non-null  object \n",
            " 28  external_data_provider_credit_checks_last_2_year  22372 non-null  float64\n",
            " 29  external_data_provider_credit_checks_last_month   45000 non-null  int64  \n",
            " 30  external_data_provider_credit_checks_last_year    29876 non-null  float64\n",
            " 31  external_data_provider_email_seen_before          42767 non-null  float64\n",
            " 32  external_data_provider_first_name                 45000 non-null  object \n",
            " 33  external_data_provider_fraud_score                45000 non-null  int64  \n",
            " 34  lat_lon                                           43637 non-null  object \n",
            " 35  marketing_channel                                 41422 non-null  object \n",
            " 36  profile_phone_number                              45000 non-null  object \n",
            " 37  reported_income                                   45000 non-null  float64\n",
            " 38  shipping_state                                    45000 non-null  object \n",
            " 39  shipping_zip_code                                 45000 non-null  int64  \n",
            " 40  profile_tags                                      45000 non-null  object \n",
            " 41  user_agent                                        44278 non-null  object \n",
            " 42  target_fraud                                      1522 non-null   object \n",
            "dtypes: float64(18), int64(4), object(21)\n",
            "memory usage: 14.8+ MB\n"
          ]
        }
      ]
    },
    {
      "cell_type": "markdown",
      "metadata": {
        "id": "0JSLKS1UPiap"
      },
      "source": [
        "Alguns atributos possuem valores muitos discrepantes:     \n",
        "1.   reported_income: valores infinitos\n",
        "2.   external_data_provider_email_seen_before: valores negativos\n",
        "\n"
      ]
    },
    {
      "cell_type": "code",
      "metadata": {
        "colab": {
          "base_uri": "https://localhost:8080/",
          "height": 731
        },
        "id": "KF3OzlM9HFqt",
        "outputId": "d4d1805f-b67b-4a39-e142-573a8bb93285"
      },
      "source": [
        "# statistic dataset - quantitative\n",
        "df_credit_risk.describe().transpose()"
      ],
      "execution_count": 28,
      "outputs": [
        {
          "output_type": "execute_result",
          "data": {
            "text/html": [
              "<div>\n",
              "<style scoped>\n",
              "    .dataframe tbody tr th:only-of-type {\n",
              "        vertical-align: middle;\n",
              "    }\n",
              "\n",
              "    .dataframe tbody tr th {\n",
              "        vertical-align: top;\n",
              "    }\n",
              "\n",
              "    .dataframe thead th {\n",
              "        text-align: right;\n",
              "    }\n",
              "</style>\n",
              "<table border=\"1\" class=\"dataframe\">\n",
              "  <thead>\n",
              "    <tr style=\"text-align: right;\">\n",
              "      <th></th>\n",
              "      <th>count</th>\n",
              "      <th>mean</th>\n",
              "      <th>std</th>\n",
              "      <th>min</th>\n",
              "      <th>25%</th>\n",
              "      <th>50%</th>\n",
              "      <th>75%</th>\n",
              "      <th>max</th>\n",
              "    </tr>\n",
              "  </thead>\n",
              "  <tbody>\n",
              "    <tr>\n",
              "      <th>score_3</th>\n",
              "      <td>44438.0</td>\n",
              "      <td>3.479833e+02</td>\n",
              "      <td>110.429165</td>\n",
              "      <td>0.000000</td>\n",
              "      <td>270.000000</td>\n",
              "      <td>340.000000</td>\n",
              "      <td>420.000000</td>\n",
              "      <td>9.900000e+02</td>\n",
              "    </tr>\n",
              "    <tr>\n",
              "      <th>score_4</th>\n",
              "      <td>45000.0</td>\n",
              "      <td>1.000068e+02</td>\n",
              "      <td>3.178080</td>\n",
              "      <td>86.191572</td>\n",
              "      <td>97.867036</td>\n",
              "      <td>100.018900</td>\n",
              "      <td>102.141797</td>\n",
              "      <td>1.139782e+02</td>\n",
              "    </tr>\n",
              "    <tr>\n",
              "      <th>score_5</th>\n",
              "      <td>45000.0</td>\n",
              "      <td>5.000371e-01</td>\n",
              "      <td>0.288326</td>\n",
              "      <td>0.000035</td>\n",
              "      <td>0.252150</td>\n",
              "      <td>0.500753</td>\n",
              "      <td>0.748816</td>\n",
              "      <td>9.999734e-01</td>\n",
              "    </tr>\n",
              "    <tr>\n",
              "      <th>score_6</th>\n",
              "      <td>45000.0</td>\n",
              "      <td>9.992523e+01</td>\n",
              "      <td>10.016549</td>\n",
              "      <td>60.663039</td>\n",
              "      <td>93.198353</td>\n",
              "      <td>99.974796</td>\n",
              "      <td>106.640275</td>\n",
              "      <td>1.421924e+02</td>\n",
              "    </tr>\n",
              "    <tr>\n",
              "      <th>risk_rate</th>\n",
              "      <td>44438.0</td>\n",
              "      <td>2.967172e-01</td>\n",
              "      <td>0.101933</td>\n",
              "      <td>0.000000</td>\n",
              "      <td>0.220000</td>\n",
              "      <td>0.290000</td>\n",
              "      <td>0.360000</td>\n",
              "      <td>9.000000e-01</td>\n",
              "    </tr>\n",
              "    <tr>\n",
              "      <th>last_amount_borrowed</th>\n",
              "      <td>15044.0</td>\n",
              "      <td>1.378234e+04</td>\n",
              "      <td>8077.571933</td>\n",
              "      <td>1005.180000</td>\n",
              "      <td>7519.502500</td>\n",
              "      <td>12023.465000</td>\n",
              "      <td>19220.270000</td>\n",
              "      <td>3.505960e+04</td>\n",
              "    </tr>\n",
              "    <tr>\n",
              "      <th>last_borrowed_in_months</th>\n",
              "      <td>15044.0</td>\n",
              "      <td>4.176389e+01</td>\n",
              "      <td>10.252705</td>\n",
              "      <td>36.000000</td>\n",
              "      <td>36.000000</td>\n",
              "      <td>36.000000</td>\n",
              "      <td>36.000000</td>\n",
              "      <td>6.000000e+01</td>\n",
              "    </tr>\n",
              "    <tr>\n",
              "      <th>credit_limit</th>\n",
              "      <td>31200.0</td>\n",
              "      <td>3.438195e+04</td>\n",
              "      <td>36586.982218</td>\n",
              "      <td>0.000000</td>\n",
              "      <td>10000.000000</td>\n",
              "      <td>25647.000000</td>\n",
              "      <td>47086.750000</td>\n",
              "      <td>4.482690e+05</td>\n",
              "    </tr>\n",
              "    <tr>\n",
              "      <th>income</th>\n",
              "      <td>44438.0</td>\n",
              "      <td>7.160739e+04</td>\n",
              "      <td>51858.967748</td>\n",
              "      <td>4821.180000</td>\n",
              "      <td>45010.777500</td>\n",
              "      <td>61266.760000</td>\n",
              "      <td>86019.232500</td>\n",
              "      <td>5.000028e+06</td>\n",
              "    </tr>\n",
              "    <tr>\n",
              "      <th>ok_since</th>\n",
              "      <td>18455.0</td>\n",
              "      <td>3.506974e+01</td>\n",
              "      <td>21.663194</td>\n",
              "      <td>0.000000</td>\n",
              "      <td>17.000000</td>\n",
              "      <td>32.000000</td>\n",
              "      <td>50.000000</td>\n",
              "      <td>1.410000e+02</td>\n",
              "    </tr>\n",
              "    <tr>\n",
              "      <th>n_bankruptcies</th>\n",
              "      <td>44303.0</td>\n",
              "      <td>7.627023e-02</td>\n",
              "      <td>0.274052</td>\n",
              "      <td>0.000000</td>\n",
              "      <td>0.000000</td>\n",
              "      <td>0.000000</td>\n",
              "      <td>0.000000</td>\n",
              "      <td>5.000000e+00</td>\n",
              "    </tr>\n",
              "    <tr>\n",
              "      <th>n_defaulted_loans</th>\n",
              "      <td>44426.0</td>\n",
              "      <td>4.569396e-03</td>\n",
              "      <td>0.079400</td>\n",
              "      <td>0.000000</td>\n",
              "      <td>0.000000</td>\n",
              "      <td>0.000000</td>\n",
              "      <td>0.000000</td>\n",
              "      <td>5.000000e+00</td>\n",
              "    </tr>\n",
              "    <tr>\n",
              "      <th>n_accounts</th>\n",
              "      <td>44438.0</td>\n",
              "      <td>1.069670e+01</td>\n",
              "      <td>4.592463</td>\n",
              "      <td>0.000000</td>\n",
              "      <td>7.000000</td>\n",
              "      <td>10.000000</td>\n",
              "      <td>13.000000</td>\n",
              "      <td>4.900000e+01</td>\n",
              "    </tr>\n",
              "    <tr>\n",
              "      <th>n_issues</th>\n",
              "      <td>33456.0</td>\n",
              "      <td>1.106812e+01</td>\n",
              "      <td>4.595501</td>\n",
              "      <td>0.000000</td>\n",
              "      <td>8.000000</td>\n",
              "      <td>10.000000</td>\n",
              "      <td>14.000000</td>\n",
              "      <td>4.900000e+01</td>\n",
              "    </tr>\n",
              "    <tr>\n",
              "      <th>application_time_in_funnel</th>\n",
              "      <td>45000.0</td>\n",
              "      <td>2.475370e+02</td>\n",
              "      <td>146.118398</td>\n",
              "      <td>0.000000</td>\n",
              "      <td>120.000000</td>\n",
              "      <td>248.000000</td>\n",
              "      <td>375.000000</td>\n",
              "      <td>5.000000e+02</td>\n",
              "    </tr>\n",
              "    <tr>\n",
              "      <th>external_data_provider_credit_checks_last_2_year</th>\n",
              "      <td>22372.0</td>\n",
              "      <td>0.000000e+00</td>\n",
              "      <td>0.000000</td>\n",
              "      <td>0.000000</td>\n",
              "      <td>0.000000</td>\n",
              "      <td>0.000000</td>\n",
              "      <td>0.000000</td>\n",
              "      <td>0.000000e+00</td>\n",
              "    </tr>\n",
              "    <tr>\n",
              "      <th>external_data_provider_credit_checks_last_month</th>\n",
              "      <td>45000.0</td>\n",
              "      <td>1.501067e+00</td>\n",
              "      <td>1.114941</td>\n",
              "      <td>0.000000</td>\n",
              "      <td>1.000000</td>\n",
              "      <td>2.000000</td>\n",
              "      <td>2.000000</td>\n",
              "      <td>3.000000e+00</td>\n",
              "    </tr>\n",
              "    <tr>\n",
              "      <th>external_data_provider_credit_checks_last_year</th>\n",
              "      <td>29876.0</td>\n",
              "      <td>5.033806e-01</td>\n",
              "      <td>0.499997</td>\n",
              "      <td>0.000000</td>\n",
              "      <td>0.000000</td>\n",
              "      <td>1.000000</td>\n",
              "      <td>1.000000</td>\n",
              "      <td>1.000000e+00</td>\n",
              "    </tr>\n",
              "    <tr>\n",
              "      <th>external_data_provider_email_seen_before</th>\n",
              "      <td>42767.0</td>\n",
              "      <td>1.253478e+01</td>\n",
              "      <td>126.530487</td>\n",
              "      <td>-999.000000</td>\n",
              "      <td>11.000000</td>\n",
              "      <td>27.000000</td>\n",
              "      <td>43.000000</td>\n",
              "      <td>5.900000e+01</td>\n",
              "    </tr>\n",
              "    <tr>\n",
              "      <th>external_data_provider_fraud_score</th>\n",
              "      <td>45000.0</td>\n",
              "      <td>5.003998e+02</td>\n",
              "      <td>287.968873</td>\n",
              "      <td>0.000000</td>\n",
              "      <td>252.000000</td>\n",
              "      <td>503.000000</td>\n",
              "      <td>747.000000</td>\n",
              "      <td>1.000000e+03</td>\n",
              "    </tr>\n",
              "    <tr>\n",
              "      <th>reported_income</th>\n",
              "      <td>45000.0</td>\n",
              "      <td>inf</td>\n",
              "      <td>NaN</td>\n",
              "      <td>403.000000</td>\n",
              "      <td>50948.250000</td>\n",
              "      <td>101779.000000</td>\n",
              "      <td>151337.250000</td>\n",
              "      <td>inf</td>\n",
              "    </tr>\n",
              "    <tr>\n",
              "      <th>shipping_zip_code</th>\n",
              "      <td>45000.0</td>\n",
              "      <td>3.392351e+04</td>\n",
              "      <td>12692.406382</td>\n",
              "      <td>12001.000000</td>\n",
              "      <td>22937.000000</td>\n",
              "      <td>33896.000000</td>\n",
              "      <td>44910.000000</td>\n",
              "      <td>5.600000e+04</td>\n",
              "    </tr>\n",
              "  </tbody>\n",
              "</table>\n",
              "</div>"
            ],
            "text/plain": [
              "                                                    count  ...           max\n",
              "score_3                                           44438.0  ...  9.900000e+02\n",
              "score_4                                           45000.0  ...  1.139782e+02\n",
              "score_5                                           45000.0  ...  9.999734e-01\n",
              "score_6                                           45000.0  ...  1.421924e+02\n",
              "risk_rate                                         44438.0  ...  9.000000e-01\n",
              "last_amount_borrowed                              15044.0  ...  3.505960e+04\n",
              "last_borrowed_in_months                           15044.0  ...  6.000000e+01\n",
              "credit_limit                                      31200.0  ...  4.482690e+05\n",
              "income                                            44438.0  ...  5.000028e+06\n",
              "ok_since                                          18455.0  ...  1.410000e+02\n",
              "n_bankruptcies                                    44303.0  ...  5.000000e+00\n",
              "n_defaulted_loans                                 44426.0  ...  5.000000e+00\n",
              "n_accounts                                        44438.0  ...  4.900000e+01\n",
              "n_issues                                          33456.0  ...  4.900000e+01\n",
              "application_time_in_funnel                        45000.0  ...  5.000000e+02\n",
              "external_data_provider_credit_checks_last_2_year  22372.0  ...  0.000000e+00\n",
              "external_data_provider_credit_checks_last_month   45000.0  ...  3.000000e+00\n",
              "external_data_provider_credit_checks_last_year    29876.0  ...  1.000000e+00\n",
              "external_data_provider_email_seen_before          42767.0  ...  5.900000e+01\n",
              "external_data_provider_fraud_score                45000.0  ...  1.000000e+03\n",
              "reported_income                                   45000.0  ...           inf\n",
              "shipping_zip_code                                 45000.0  ...  5.600000e+04\n",
              "\n",
              "[22 rows x 8 columns]"
            ]
          },
          "metadata": {},
          "execution_count": 28
        }
      ]
    },
    {
      "cell_type": "code",
      "metadata": {
        "colab": {
          "base_uri": "https://localhost:8080/",
          "height": 700
        },
        "id": "DhO88Jl0H0Fr",
        "outputId": "c247bc3d-fe6d-4922-b17c-5ba3f76c4aa8"
      },
      "source": [
        "# statistic dataset - quanlitative\n",
        "df_credit_risk.describe(exclude=[np.number]).transpose()"
      ],
      "execution_count": 29,
      "outputs": [
        {
          "output_type": "execute_result",
          "data": {
            "text/html": [
              "<div>\n",
              "<style scoped>\n",
              "    .dataframe tbody tr th:only-of-type {\n",
              "        vertical-align: middle;\n",
              "    }\n",
              "\n",
              "    .dataframe tbody tr th {\n",
              "        vertical-align: top;\n",
              "    }\n",
              "\n",
              "    .dataframe thead th {\n",
              "        text-align: right;\n",
              "    }\n",
              "</style>\n",
              "<table border=\"1\" class=\"dataframe\">\n",
              "  <thead>\n",
              "    <tr style=\"text-align: right;\">\n",
              "      <th></th>\n",
              "      <th>count</th>\n",
              "      <th>unique</th>\n",
              "      <th>top</th>\n",
              "      <th>freq</th>\n",
              "    </tr>\n",
              "  </thead>\n",
              "  <tbody>\n",
              "    <tr>\n",
              "      <th>ids</th>\n",
              "      <td>45000</td>\n",
              "      <td>45000</td>\n",
              "      <td>34ee7c56-4611-676f-88ef-6579cce00691</td>\n",
              "      <td>1</td>\n",
              "    </tr>\n",
              "    <tr>\n",
              "      <th>target_default</th>\n",
              "      <td>41741</td>\n",
              "      <td>2</td>\n",
              "      <td>False</td>\n",
              "      <td>35080</td>\n",
              "    </tr>\n",
              "    <tr>\n",
              "      <th>score_1</th>\n",
              "      <td>44438</td>\n",
              "      <td>7</td>\n",
              "      <td>DGCQep2AE5QRkNCshIAlFQ==</td>\n",
              "      <td>14523</td>\n",
              "    </tr>\n",
              "    <tr>\n",
              "      <th>score_2</th>\n",
              "      <td>44438</td>\n",
              "      <td>35</td>\n",
              "      <td>osCzpM4hJrxugqWWuZmMWw==</td>\n",
              "      <td>3573</td>\n",
              "    </tr>\n",
              "    <tr>\n",
              "      <th>reason</th>\n",
              "      <td>44434</td>\n",
              "      <td>14874</td>\n",
              "      <td>mLVIVxoGY7TUDJ1FyFoSIZi1SFcaBmO01AydRchaEiGYtU...</td>\n",
              "      <td>4463</td>\n",
              "    </tr>\n",
              "    <tr>\n",
              "      <th>facebook_profile</th>\n",
              "      <td>40542</td>\n",
              "      <td>2</td>\n",
              "      <td>False</td>\n",
              "      <td>24933</td>\n",
              "    </tr>\n",
              "    <tr>\n",
              "      <th>state</th>\n",
              "      <td>44438</td>\n",
              "      <td>50</td>\n",
              "      <td>xsd3ZdsI3356I3xMxZeiqQ==</td>\n",
              "      <td>7429</td>\n",
              "    </tr>\n",
              "    <tr>\n",
              "      <th>zip</th>\n",
              "      <td>44438</td>\n",
              "      <td>823</td>\n",
              "      <td>3k2JCQ8Bp5oDwaI39ZJgHA==</td>\n",
              "      <td>566</td>\n",
              "    </tr>\n",
              "    <tr>\n",
              "      <th>channel</th>\n",
              "      <td>44438</td>\n",
              "      <td>1</td>\n",
              "      <td>NCqL3QBx0pscDnx3ixKwXg==</td>\n",
              "      <td>44438</td>\n",
              "    </tr>\n",
              "    <tr>\n",
              "      <th>job_name</th>\n",
              "      <td>41664</td>\n",
              "      <td>32265</td>\n",
              "      <td>mLVIVxoGY7TUDJ1FyFoSIZi1SFcaBmO01AydRchaEiGYtU...</td>\n",
              "      <td>167</td>\n",
              "    </tr>\n",
              "    <tr>\n",
              "      <th>real_state</th>\n",
              "      <td>44438</td>\n",
              "      <td>5</td>\n",
              "      <td>N5/CE7lSkAfB04hVFFwllw==</td>\n",
              "      <td>22353</td>\n",
              "    </tr>\n",
              "    <tr>\n",
              "      <th>application_time_applied</th>\n",
              "      <td>45000</td>\n",
              "      <td>35543</td>\n",
              "      <td>18:02:09</td>\n",
              "      <td>6</td>\n",
              "    </tr>\n",
              "    <tr>\n",
              "      <th>email</th>\n",
              "      <td>45000</td>\n",
              "      <td>6</td>\n",
              "      <td>gmail.com</td>\n",
              "      <td>22720</td>\n",
              "    </tr>\n",
              "    <tr>\n",
              "      <th>external_data_provider_first_name</th>\n",
              "      <td>45000</td>\n",
              "      <td>32886</td>\n",
              "      <td>claudinei</td>\n",
              "      <td>7</td>\n",
              "    </tr>\n",
              "    <tr>\n",
              "      <th>lat_lon</th>\n",
              "      <td>43637</td>\n",
              "      <td>22412</td>\n",
              "      <td>(-5.164423488858103, -37.356920426246845)</td>\n",
              "      <td>18</td>\n",
              "    </tr>\n",
              "    <tr>\n",
              "      <th>marketing_channel</th>\n",
              "      <td>41422</td>\n",
              "      <td>9</td>\n",
              "      <td>Website</td>\n",
              "      <td>10950</td>\n",
              "    </tr>\n",
              "    <tr>\n",
              "      <th>profile_phone_number</th>\n",
              "      <td>45000</td>\n",
              "      <td>45000</td>\n",
              "      <td>412-4708193</td>\n",
              "      <td>1</td>\n",
              "    </tr>\n",
              "    <tr>\n",
              "      <th>shipping_state</th>\n",
              "      <td>45000</td>\n",
              "      <td>25</td>\n",
              "      <td>BR-SP</td>\n",
              "      <td>6994</td>\n",
              "    </tr>\n",
              "    <tr>\n",
              "      <th>profile_tags</th>\n",
              "      <td>45000</td>\n",
              "      <td>26131</td>\n",
              "      <td>{'tags': ['aty']}</td>\n",
              "      <td>358</td>\n",
              "    </tr>\n",
              "    <tr>\n",
              "      <th>user_agent</th>\n",
              "      <td>44278</td>\n",
              "      <td>297</td>\n",
              "      <td>Mozilla/5.0 (Linux; Android 5.0.2; LG-V410/V41...</td>\n",
              "      <td>195</td>\n",
              "    </tr>\n",
              "    <tr>\n",
              "      <th>target_fraud</th>\n",
              "      <td>1522</td>\n",
              "      <td>2</td>\n",
              "      <td>fraud_friends_family</td>\n",
              "      <td>904</td>\n",
              "    </tr>\n",
              "  </tbody>\n",
              "</table>\n",
              "</div>"
            ],
            "text/plain": [
              "                                   count  ...   freq\n",
              "ids                                45000  ...      1\n",
              "target_default                     41741  ...  35080\n",
              "score_1                            44438  ...  14523\n",
              "score_2                            44438  ...   3573\n",
              "reason                             44434  ...   4463\n",
              "facebook_profile                   40542  ...  24933\n",
              "state                              44438  ...   7429\n",
              "zip                                44438  ...    566\n",
              "channel                            44438  ...  44438\n",
              "job_name                           41664  ...    167\n",
              "real_state                         44438  ...  22353\n",
              "application_time_applied           45000  ...      6\n",
              "email                              45000  ...  22720\n",
              "external_data_provider_first_name  45000  ...      7\n",
              "lat_lon                            43637  ...     18\n",
              "marketing_channel                  41422  ...  10950\n",
              "profile_phone_number               45000  ...      1\n",
              "shipping_state                     45000  ...   6994\n",
              "profile_tags                       45000  ...    358\n",
              "user_agent                         44278  ...    195\n",
              "target_fraud                        1522  ...    904\n",
              "\n",
              "[21 rows x 4 columns]"
            ]
          },
          "metadata": {},
          "execution_count": 29
        }
      ]
    },
    {
      "cell_type": "markdown",
      "metadata": {
        "id": "5ufNaHzAOjW4"
      },
      "source": [
        "Existem atributos que possuem mais da metade de valores ausentes e que serão excluídos no processo e limpeza de dados:\n",
        "* *target_fraud*;\n",
        "* *last_amount_borrowed*;\n",
        "* *last_borrowed_in_months*;\n",
        "* *external_data_provider_credit_checks_last_2_year*;\n",
        "* *ok_since0*."
      ]
    },
    {
      "cell_type": "code",
      "metadata": {
        "colab": {
          "base_uri": "https://localhost:8080/"
        },
        "id": "iicZycSoK5ba",
        "outputId": "755d2d96-ade8-42a9-851a-e3dc01fe21ba"
      },
      "source": [
        "# null values\n",
        "(df_credit_risk.isnull().sum() / df_credit_risk.shape[0] * 100).sort_values(ascending=False)"
      ],
      "execution_count": 30,
      "outputs": [
        {
          "output_type": "execute_result",
          "data": {
            "text/plain": [
              "target_fraud                                        96.617778\n",
              "last_amount_borrowed                                66.568889\n",
              "last_borrowed_in_months                             66.568889\n",
              "ok_since                                            58.988889\n",
              "external_data_provider_credit_checks_last_2_year    50.284444\n",
              "external_data_provider_credit_checks_last_year      33.608889\n",
              "credit_limit                                        30.666667\n",
              "n_issues                                            25.653333\n",
              "facebook_profile                                     9.906667\n",
              "marketing_channel                                    7.951111\n",
              "job_name                                             7.413333\n",
              "target_default                                       7.242222\n",
              "external_data_provider_email_seen_before             4.962222\n",
              "lat_lon                                              3.028889\n",
              "user_agent                                           1.604444\n",
              "n_bankruptcies                                       1.548889\n",
              "n_defaulted_loans                                    1.275556\n",
              "reason                                               1.257778\n",
              "income                                               1.248889\n",
              "real_state                                           1.248889\n",
              "state                                                1.248889\n",
              "zip                                                  1.248889\n",
              "channel                                              1.248889\n",
              "score_3                                              1.248889\n",
              "score_2                                              1.248889\n",
              "score_1                                              1.248889\n",
              "n_accounts                                           1.248889\n",
              "risk_rate                                            1.248889\n",
              "shipping_zip_code                                    0.000000\n",
              "score_4                                              0.000000\n",
              "score_5                                              0.000000\n",
              "profile_tags                                         0.000000\n",
              "score_6                                              0.000000\n",
              "application_time_in_funnel                           0.000000\n",
              "shipping_state                                       0.000000\n",
              "reported_income                                      0.000000\n",
              "application_time_applied                             0.000000\n",
              "profile_phone_number                                 0.000000\n",
              "external_data_provider_fraud_score                   0.000000\n",
              "external_data_provider_first_name                    0.000000\n",
              "external_data_provider_credit_checks_last_month      0.000000\n",
              "email                                                0.000000\n",
              "ids                                                  0.000000\n",
              "dtype: float64"
            ]
          },
          "metadata": {},
          "execution_count": 30
        }
      ]
    },
    {
      "cell_type": "markdown",
      "metadata": {
        "id": "jB206-KtO7IS"
      },
      "source": [
        "Existem atributos com um único valor para todos os registros  do dataset o que gera pouco valor à análise:\n",
        "* *external_data_provider_credit_checks_last_2_year*;\n",
        "* *channel*.\n",
        "\n",
        "e também com o número de valores únicos igual ao tamanhao do dataset:\n",
        "* *ids*;\n",
        "* *profile_phone_number*;\n",
        "* *shipping_zip_code*."
      ]
    },
    {
      "cell_type": "code",
      "metadata": {
        "colab": {
          "base_uri": "https://localhost:8080/"
        },
        "id": "gsQPTd7ZLn4-",
        "outputId": "9a0b5575-7730-42d6-a738-0aa25e552bac"
      },
      "source": [
        "# unique values\n",
        "df_credit_risk.nunique().sort_values()"
      ],
      "execution_count": 31,
      "outputs": [
        {
          "output_type": "execute_result",
          "data": {
            "text/plain": [
              "external_data_provider_credit_checks_last_2_year        1\n",
              "channel                                                 1\n",
              "target_fraud                                            2\n",
              "target_default                                          2\n",
              "external_data_provider_credit_checks_last_year          2\n",
              "facebook_profile                                        2\n",
              "last_borrowed_in_months                                 2\n",
              "external_data_provider_credit_checks_last_month         4\n",
              "n_defaulted_loans                                       5\n",
              "real_state                                              5\n",
              "email                                                   6\n",
              "n_bankruptcies                                          6\n",
              "score_1                                                 7\n",
              "marketing_channel                                       9\n",
              "shipping_state                                         25\n",
              "score_2                                                35\n",
              "n_issues                                               44\n",
              "n_accounts                                             44\n",
              "state                                                  50\n",
              "external_data_provider_email_seen_before               62\n",
              "risk_rate                                              82\n",
              "score_3                                                88\n",
              "ok_since                                              100\n",
              "user_agent                                            297\n",
              "application_time_in_funnel                            501\n",
              "zip                                                   823\n",
              "external_data_provider_fraud_score                   1001\n",
              "last_amount_borrowed                                14325\n",
              "reason                                              14874\n",
              "credit_limit                                        20928\n",
              "lat_lon                                             22412\n",
              "profile_tags                                        26131\n",
              "shipping_zip_code                                   28263\n",
              "job_name                                            32265\n",
              "external_data_provider_first_name                   32886\n",
              "application_time_applied                            35543\n",
              "reported_income                                     40025\n",
              "income                                              41211\n",
              "score_4                                             45000\n",
              "score_5                                             45000\n",
              "score_6                                             45000\n",
              "profile_phone_number                                45000\n",
              "ids                                                 45000\n",
              "dtype: int64"
            ]
          },
          "metadata": {},
          "execution_count": 31
        }
      ]
    },
    {
      "cell_type": "markdown",
      "metadata": {
        "id": "trlkd9ATQWo4"
      },
      "source": [
        "## Data cleaning"
      ]
    },
    {
      "cell_type": "markdown",
      "metadata": {
        "id": "L8gW03YtU7Wo"
      },
      "source": [
        "Colunas excluídas:    \n",
        "*  *last_amount_borrowed*, *last_borrowed_in_months*, *ok_since* e *external_data_provider_credit_checks_last_2_year* possuem mais de 50% do dataset de valores ausentes, o que torna difícil substituir esses valores, podendo gerar erros durante a predição;\n",
        "\n",
        "* *target_fraud* é uma variável alvo destinada para avaliar a possibilidade de fraude no cartão de crédito;\n",
        "\n",
        "* *job_name*, *external_data_provider_first_name*, *profile_phone_number* e *zip* são do tipo string e possuem muitos valores categóricos distintos, difíceis de serem agrupados;\n",
        "\n",
        "* *ids* serve para identificar um determinado cliente, portanto, não agrega valor;\n",
        "\n",
        "* *channel*, *profile_phone_numbere*  *shipping_zip_code* possuem um valor único, não agrega valor.\n",
        "\n"
      ]
    },
    {
      "cell_type": "code",
      "metadata": {
        "id": "QU8hzBv2N-if"
      },
      "source": [
        "df_credit_risk_clean = df_credit_risk.copy()\n",
        "\n",
        "del_cols = ['external_data_provider_credit_checks_last_2_year', 'ok_since', 'channel',\n",
        "        'target_fraud','ids', 'last_amount_borrowed', 'profile_phone_number', \n",
        "        'reason', 'zip', 'user_agent', 'job_name', 'external_data_provider_first_name',\n",
        "        'last_borrowed_in_months', 'state', 'shipping_zip_code', 'lat_lon']\n",
        "\n",
        "# drop columns\n",
        "df_credit_risk_clean = df_credit_risk_clean.drop(labels=del_cols, axis=1)\n",
        "\n",
        "# inf's values\n",
        "df_credit_risk_clean = df_credit_risk_clean[df_credit_risk_clean['reported_income'] != np.inf]\n",
        "\n",
        "# negatives values\n",
        "df_credit_risk_clean.loc[df_credit_risk_clean['external_data_provider_email_seen_before'] < 0,\n",
        "             'external_data_provider_email_seen_before'] = np.nan\n",
        "\n",
        "# change facebook_profile column\n",
        "df_credit_risk_clean['facebook_profile'].fillna(value=False, inplace=True, axis=0)\n",
        "df_credit_risk_clean['facebook_profile'] = df_credit_risk_clean['facebook_profile'].map({True: 'Sim', False: 'Não'})\n",
        "\n",
        "# chnage email colums\n",
        "df_credit_risk_clean.loc[df_credit_risk_clean['email'] == 'hotmaill.com', 'email'] = 'hotmail.com'\n",
        "df_credit_risk_clean.loc[df_credit_risk_clean['email'] == 'gmaill.com', 'email'] = 'gmail.com'\n",
        "\n",
        "# change the value of the shipping_state column\n",
        "df_credit_risk_clean['shipping_state'] = df_credit_risk_clean['shipping_state'].str[-2:]\n",
        "\n",
        "# clear target\n",
        "df_credit_risk_clean.dropna(subset=['target_default'], inplace=True)\n",
        "df_credit_risk_clean['target_default'] = df_credit_risk_clean['target_default'].map({True: 1, False: 0})"
      ],
      "execution_count": 54,
      "outputs": []
    },
    {
      "cell_type": "code",
      "metadata": {
        "colab": {
          "base_uri": "https://localhost:8080/"
        },
        "id": "QFd7vcp5QwC3",
        "outputId": "e8616c13-dc17-4ba5-e5dd-f627a8a16090"
      },
      "source": [
        "# null values\n",
        "(df_credit_risk_clean.isnull().sum() / df_credit_risk_clean.shape[0] * 100).sort_values(ascending=False)"
      ],
      "execution_count": 55,
      "outputs": [
        {
          "output_type": "execute_result",
          "data": {
            "text/plain": [
              "external_data_provider_credit_checks_last_year     33.607678\n",
              "credit_limit                                       31.407319\n",
              "n_issues                                           26.164367\n",
              "marketing_channel                                   7.920816\n",
              "external_data_provider_email_seen_before            7.846431\n",
              "n_bankruptcies                                      0.323935\n",
              "n_defaulted_loans                                   0.028794\n",
              "facebook_profile                                    0.000000\n",
              "score_1                                             0.000000\n",
              "score_2                                             0.000000\n",
              "score_3                                             0.000000\n",
              "score_4                                             0.000000\n",
              "score_5                                             0.000000\n",
              "score_6                                             0.000000\n",
              "risk_rate                                           0.000000\n",
              "income                                              0.000000\n",
              "profile_tags                                        0.000000\n",
              "real_state                                          0.000000\n",
              "shipping_state                                      0.000000\n",
              "n_accounts                                          0.000000\n",
              "application_time_applied                            0.000000\n",
              "application_time_in_funnel                          0.000000\n",
              "email                                               0.000000\n",
              "external_data_provider_credit_checks_last_month     0.000000\n",
              "external_data_provider_fraud_score                  0.000000\n",
              "reported_income                                     0.000000\n",
              "target_default                                      0.000000\n",
              "dtype: float64"
            ]
          },
          "metadata": {},
          "execution_count": 55
        }
      ]
    },
    {
      "cell_type": "markdown",
      "metadata": {
        "id": "rjS68i5HQYoK"
      },
      "source": [
        "## Missing values"
      ]
    },
    {
      "cell_type": "code",
      "metadata": {
        "id": "gmSeLSFAQaMB"
      },
      "source": [
        "def fill_proportional(column):\n",
        "    \"\"\"\n",
        "    Fill in missing values in the same proportion as present values\n",
        "\n",
        "     Takes a column and returns the column with missing values filled \n",
        "     in proportion to previously existing values.\n",
        "    \"\"\"\n",
        "    \n",
        "    # generating the dictionary with unique values and their percentages\n",
        "    percentages = column.value_counts(normalize=True).to_dict()\n",
        "\n",
        "    # transforming dictionary keys and values into lists      \n",
        "    percent = [percentages[key] for key in percentages]\n",
        "    labels = [key for key in percentages]\n",
        "\n",
        "    # using lists to fill null values in correct proportion \n",
        "    s = pd.Series(np.random.choice(labels, p=percent, size=column.isnull().sum()))\n",
        "    column = column.fillna(s)\n",
        "    \n",
        "    # checking that all missing values have been filled in \n",
        "    #   and filling in those that have not been\n",
        "    if len(column.isnull()) > 0:\n",
        "        column.fillna(value=max(percentages, key=percentages.get), inplace=True, axis=0)\n",
        "        \n",
        "    return column"
      ],
      "execution_count": 56,
      "outputs": []
    },
    {
      "cell_type": "code",
      "metadata": {
        "id": "3za6O4-4nedA"
      },
      "source": [
        "# input values\n",
        "#  -fill categorical variables using function;\n",
        "#  -fill numeric variables with the median.\n",
        "for column in df_credit_risk_clean.iloc[:,1:].columns.tolist():\n",
        "    if df_credit_risk_clean[column].dtypes == 'O':\n",
        "        df_credit_risk_clean[column] = fill_proportional(df_credit_risk_clean[column])\n",
        "    else:\n",
        "        df_credit_risk_clean[column].fillna(value=df_credit_risk_clean[column].median(), inplace=True, axis=0)"
      ],
      "execution_count": 57,
      "outputs": []
    },
    {
      "cell_type": "code",
      "metadata": {
        "colab": {
          "base_uri": "https://localhost:8080/"
        },
        "id": "GfNmwz5kU47J",
        "outputId": "fad18eb2-46db-4fc0-d8d8-9cd70bf11731"
      },
      "source": [
        "# null values\n",
        "(df_credit_risk_clean.isnull().sum() / df_credit_risk_clean.shape[0] * 100).sort_values(ascending=False)"
      ],
      "execution_count": 58,
      "outputs": [
        {
          "output_type": "execute_result",
          "data": {
            "text/plain": [
              "profile_tags                                       0.0\n",
              "n_bankruptcies                                     0.0\n",
              "score_1                                            0.0\n",
              "score_2                                            0.0\n",
              "score_3                                            0.0\n",
              "score_4                                            0.0\n",
              "score_5                                            0.0\n",
              "score_6                                            0.0\n",
              "risk_rate                                          0.0\n",
              "credit_limit                                       0.0\n",
              "income                                             0.0\n",
              "facebook_profile                                   0.0\n",
              "real_state                                         0.0\n",
              "n_defaulted_loans                                  0.0\n",
              "shipping_state                                     0.0\n",
              "n_accounts                                         0.0\n",
              "n_issues                                           0.0\n",
              "application_time_applied                           0.0\n",
              "application_time_in_funnel                         0.0\n",
              "email                                              0.0\n",
              "external_data_provider_credit_checks_last_month    0.0\n",
              "external_data_provider_credit_checks_last_year     0.0\n",
              "external_data_provider_email_seen_before           0.0\n",
              "external_data_provider_fraud_score                 0.0\n",
              "marketing_channel                                  0.0\n",
              "reported_income                                    0.0\n",
              "target_default                                     0.0\n",
              "dtype: float64"
            ]
          },
          "metadata": {},
          "execution_count": 58
        }
      ]
    },
    {
      "cell_type": "markdown",
      "metadata": {
        "id": "3gLwli6QVJkf"
      },
      "source": [
        "## Feature Engineering"
      ]
    },
    {
      "cell_type": "markdown",
      "metadata": {
        "id": "OU0d8v_VVh9J"
      },
      "source": [
        "### application_time_applied\n",
        "\n",
        "> aplicações realizadas no período de 0 a 6 h possuem maior probabilidade de terem inadimplência\n",
        "\n"
      ]
    },
    {
      "cell_type": "code",
      "metadata": {
        "colab": {
          "base_uri": "https://localhost:8080/",
          "height": 297
        },
        "id": "l32M0vANVLzu",
        "outputId": "409f3de8-74d0-4e1a-c777-2b23b25b4426"
      },
      "source": [
        "# change to int type\n",
        "df_credit_risk_clean['application_time_applied'] = (df_credit_risk_clean['application_time_applied'].str[:2]).astype('int64')\n",
        "\n",
        "# parameters\n",
        "rc_params = {'axes.edgecolor':'#787878', \n",
        "             'axes.titlecolor':'#787878', \n",
        "             'axes.labelcolor': '#787878', \n",
        "             'axes.spines.top':False, \n",
        "             'axes.spines.right': False, \n",
        "             'xtick.color': '#787878', \n",
        "             'ytick.color': '#787878',\n",
        "             'axes.titleweight': 'bold',\n",
        "             'axes.titlesize': 12\n",
        "             }\n",
        "\n",
        "# apply 'rc_params'\n",
        "with plt.rc_context(rc_params):\n",
        "  fig, ax = plt.subplots( figsize = (14,4) )\n",
        "  sns.histplot(data = df_credit_risk_clean, x = 'application_time_applied', ax = ax, hue = \"target_default\")\n",
        "  ax.set_title(\"Histograma variável application_time_applied\")\n",
        "\n",
        "  plt.tight_layout()"
      ],
      "execution_count": 59,
      "outputs": [
        {
          "output_type": "display_data",
          "data": {
            "image/png": "[encoded data removed]",
            "text/plain": [
              "<Figure size 1008x288 with 1 Axes>"
            ]
          },
          "metadata": {
            "needs_background": "light"
          }
        }
      ]
    },
    {
      "cell_type": "markdown",
      "metadata": {
        "id": "XNCR2q4ecoev"
      },
      "source": [
        "### profile_tags"
      ]
    },
    {
      "cell_type": "code",
      "metadata": {
        "colab": {
          "base_uri": "https://localhost:8080/",
          "height": 162
        },
        "id": "nXOOIKB2cpVt",
        "outputId": "ce912253-14f7-4ad5-9404-08490c121a57"
      },
      "source": [
        "# get only tag\n",
        "df_credit_risk_clean['profile_tags'] = df_credit_risk_clean['profile_tags'].str.extract('\\[(.*)\\]')\n",
        "df_credit_risk_clean['profile_tags'] = df_credit_risk_clean['profile_tags'].str.replace(\"'\",\"\").str.replace(\",\",\"\").str.replace(\"+\",\"\")\n",
        "\n",
        "df_credit_risk_clean.head(3)"
      ],
      "execution_count": 60,
      "outputs": [
        {
          "output_type": "execute_result",
          "data": {
            "text/html": [
              "<div>\n",
              "<style scoped>\n",
              "    .dataframe tbody tr th:only-of-type {\n",
              "        vertical-align: middle;\n",
              "    }\n",
              "\n",
              "    .dataframe tbody tr th {\n",
              "        vertical-align: top;\n",
              "    }\n",
              "\n",
              "    .dataframe thead th {\n",
              "        text-align: right;\n",
              "    }\n",
              "</style>\n",
              "<table border=\"1\" class=\"dataframe\">\n",
              "  <thead>\n",
              "    <tr style=\"text-align: right;\">\n",
              "      <th></th>\n",
              "      <th>target_default</th>\n",
              "      <th>score_1</th>\n",
              "      <th>score_2</th>\n",
              "      <th>score_3</th>\n",
              "      <th>score_4</th>\n",
              "      <th>score_5</th>\n",
              "      <th>score_6</th>\n",
              "      <th>risk_rate</th>\n",
              "      <th>credit_limit</th>\n",
              "      <th>income</th>\n",
              "      <th>facebook_profile</th>\n",
              "      <th>real_state</th>\n",
              "      <th>n_bankruptcies</th>\n",
              "      <th>n_defaulted_loans</th>\n",
              "      <th>n_accounts</th>\n",
              "      <th>n_issues</th>\n",
              "      <th>application_time_applied</th>\n",
              "      <th>application_time_in_funnel</th>\n",
              "      <th>email</th>\n",
              "      <th>external_data_provider_credit_checks_last_month</th>\n",
              "      <th>external_data_provider_credit_checks_last_year</th>\n",
              "      <th>external_data_provider_email_seen_before</th>\n",
              "      <th>external_data_provider_fraud_score</th>\n",
              "      <th>marketing_channel</th>\n",
              "      <th>reported_income</th>\n",
              "      <th>shipping_state</th>\n",
              "      <th>profile_tags</th>\n",
              "    </tr>\n",
              "  </thead>\n",
              "  <tbody>\n",
              "    <tr>\n",
              "      <th>0</th>\n",
              "      <td>0</td>\n",
              "      <td>1Rk8w4Ucd5yR3KcqZzLdow==</td>\n",
              "      <td>IOVu8au3ISbo6+zmfnYwMg==</td>\n",
              "      <td>350.0</td>\n",
              "      <td>101.800832</td>\n",
              "      <td>0.259555</td>\n",
              "      <td>108.427273</td>\n",
              "      <td>0.40</td>\n",
              "      <td>0.0</td>\n",
              "      <td>65014.12</td>\n",
              "      <td>Sim</td>\n",
              "      <td>N5/CE7lSkAfB04hVFFwllw==</td>\n",
              "      <td>0.0</td>\n",
              "      <td>0.0</td>\n",
              "      <td>18.0</td>\n",
              "      <td>18.0</td>\n",
              "      <td>7</td>\n",
              "      <td>444</td>\n",
              "      <td>outlook.com</td>\n",
              "      <td>2</td>\n",
              "      <td>0.0</td>\n",
              "      <td>51.0</td>\n",
              "      <td>645</td>\n",
              "      <td>Invite-email</td>\n",
              "      <td>57849.0</td>\n",
              "      <td>MT</td>\n",
              "      <td>n19 n8</td>\n",
              "    </tr>\n",
              "    <tr>\n",
              "      <th>1</th>\n",
              "      <td>0</td>\n",
              "      <td>DGCQep2AE5QRkNCshIAlFQ==</td>\n",
              "      <td>SaamrHMo23l/3TwXOWgVzw==</td>\n",
              "      <td>370.0</td>\n",
              "      <td>97.062615</td>\n",
              "      <td>0.942655</td>\n",
              "      <td>92.002546</td>\n",
              "      <td>0.24</td>\n",
              "      <td>39726.0</td>\n",
              "      <td>100018.91</td>\n",
              "      <td>Não</td>\n",
              "      <td>N5/CE7lSkAfB04hVFFwllw==</td>\n",
              "      <td>0.0</td>\n",
              "      <td>0.0</td>\n",
              "      <td>14.0</td>\n",
              "      <td>14.0</td>\n",
              "      <td>2</td>\n",
              "      <td>346</td>\n",
              "      <td>gmail.com</td>\n",
              "      <td>1</td>\n",
              "      <td>0.0</td>\n",
              "      <td>17.0</td>\n",
              "      <td>243</td>\n",
              "      <td>Radio-commercial</td>\n",
              "      <td>4902.0</td>\n",
              "      <td>RS</td>\n",
              "      <td>n6 n7 nim</td>\n",
              "    </tr>\n",
              "    <tr>\n",
              "      <th>2</th>\n",
              "      <td>1</td>\n",
              "      <td>DGCQep2AE5QRkNCshIAlFQ==</td>\n",
              "      <td>Fv28Bz0YRTVAT5kl1bAV6g==</td>\n",
              "      <td>360.0</td>\n",
              "      <td>100.027073</td>\n",
              "      <td>0.351918</td>\n",
              "      <td>112.892453</td>\n",
              "      <td>0.29</td>\n",
              "      <td>25206.0</td>\n",
              "      <td>65023.65</td>\n",
              "      <td>Não</td>\n",
              "      <td>n+xK9CfX0bCn77lClTWviw==</td>\n",
              "      <td>0.0</td>\n",
              "      <td>0.0</td>\n",
              "      <td>10.0</td>\n",
              "      <td>10.0</td>\n",
              "      <td>0</td>\n",
              "      <td>6</td>\n",
              "      <td>gmail.com</td>\n",
              "      <td>2</td>\n",
              "      <td>1.0</td>\n",
              "      <td>9.0</td>\n",
              "      <td>65</td>\n",
              "      <td>Waiting-list</td>\n",
              "      <td>163679.0</td>\n",
              "      <td>RR</td>\n",
              "      <td>n0 n17 nim da</td>\n",
              "    </tr>\n",
              "  </tbody>\n",
              "</table>\n",
              "</div>"
            ],
            "text/plain": [
              "   target_default                   score_1  ... shipping_state   profile_tags\n",
              "0               0  1Rk8w4Ucd5yR3KcqZzLdow==  ...             MT         n19 n8\n",
              "1               0  DGCQep2AE5QRkNCshIAlFQ==  ...             RS      n6 n7 nim\n",
              "2               1  DGCQep2AE5QRkNCshIAlFQ==  ...             RR  n0 n17 nim da\n",
              "\n",
              "[3 rows x 27 columns]"
            ]
          },
          "metadata": {},
          "execution_count": 60
        }
      ]
    },
    {
      "cell_type": "code",
      "metadata": {
        "colab": {
          "base_uri": "https://localhost:8080/",
          "height": 204
        },
        "id": "2Lwf5W3ZdqP1",
        "outputId": "3f598252-9700-4be0-8e92-fe3e38623982"
      },
      "source": [
        "# create algorithm\n",
        "bag_of_words = CountVectorizer(binary=True, analyzer='word')\n",
        "words = bag_of_words.fit_transform(df_credit_risk_clean['profile_tags']).todense()\n",
        "\n",
        "# new dataframe of tags\n",
        "df_tag = pd.DataFrame(words, columns = bag_of_words.get_feature_names(), index = df_credit_risk_clean.index)\n",
        "\n",
        "df_tag.head()"
      ],
      "execution_count": 61,
      "outputs": [
        {
          "output_type": "execute_result",
          "data": {
            "text/html": [
              "<div>\n",
              "<style scoped>\n",
              "    .dataframe tbody tr th:only-of-type {\n",
              "        vertical-align: middle;\n",
              "    }\n",
              "\n",
              "    .dataframe tbody tr th {\n",
              "        vertical-align: top;\n",
              "    }\n",
              "\n",
              "    .dataframe thead th {\n",
              "        text-align: right;\n",
              "    }\n",
              "</style>\n",
              "<table border=\"1\" class=\"dataframe\">\n",
              "  <thead>\n",
              "    <tr style=\"text-align: right;\">\n",
              "      <th></th>\n",
              "      <th>a15</th>\n",
              "      <th>aty</th>\n",
              "      <th>b19</th>\n",
              "      <th>c1</th>\n",
              "      <th>c55</th>\n",
              "      <th>da</th>\n",
              "      <th>dfa</th>\n",
              "      <th>n0</th>\n",
              "      <th>n1</th>\n",
              "      <th>n10</th>\n",
              "      <th>n11</th>\n",
              "      <th>n12</th>\n",
              "      <th>n13</th>\n",
              "      <th>n14</th>\n",
              "      <th>n15</th>\n",
              "      <th>n16</th>\n",
              "      <th>n17</th>\n",
              "      <th>n18</th>\n",
              "      <th>n19</th>\n",
              "      <th>n2</th>\n",
              "      <th>n3</th>\n",
              "      <th>n4</th>\n",
              "      <th>n5</th>\n",
              "      <th>n6</th>\n",
              "      <th>n7</th>\n",
              "      <th>n8</th>\n",
              "      <th>n9</th>\n",
              "      <th>nim</th>\n",
              "      <th>proaty</th>\n",
              "    </tr>\n",
              "  </thead>\n",
              "  <tbody>\n",
              "    <tr>\n",
              "      <th>0</th>\n",
              "      <td>0</td>\n",
              "      <td>0</td>\n",
              "      <td>0</td>\n",
              "      <td>0</td>\n",
              "      <td>0</td>\n",
              "      <td>0</td>\n",
              "      <td>0</td>\n",
              "      <td>0</td>\n",
              "      <td>0</td>\n",
              "      <td>0</td>\n",
              "      <td>0</td>\n",
              "      <td>0</td>\n",
              "      <td>0</td>\n",
              "      <td>0</td>\n",
              "      <td>0</td>\n",
              "      <td>0</td>\n",
              "      <td>0</td>\n",
              "      <td>0</td>\n",
              "      <td>1</td>\n",
              "      <td>0</td>\n",
              "      <td>0</td>\n",
              "      <td>0</td>\n",
              "      <td>0</td>\n",
              "      <td>0</td>\n",
              "      <td>0</td>\n",
              "      <td>1</td>\n",
              "      <td>0</td>\n",
              "      <td>0</td>\n",
              "      <td>0</td>\n",
              "    </tr>\n",
              "    <tr>\n",
              "      <th>1</th>\n",
              "      <td>0</td>\n",
              "      <td>0</td>\n",
              "      <td>0</td>\n",
              "      <td>0</td>\n",
              "      <td>0</td>\n",
              "      <td>0</td>\n",
              "      <td>0</td>\n",
              "      <td>0</td>\n",
              "      <td>0</td>\n",
              "      <td>0</td>\n",
              "      <td>0</td>\n",
              "      <td>0</td>\n",
              "      <td>0</td>\n",
              "      <td>0</td>\n",
              "      <td>0</td>\n",
              "      <td>0</td>\n",
              "      <td>0</td>\n",
              "      <td>0</td>\n",
              "      <td>0</td>\n",
              "      <td>0</td>\n",
              "      <td>0</td>\n",
              "      <td>0</td>\n",
              "      <td>0</td>\n",
              "      <td>1</td>\n",
              "      <td>1</td>\n",
              "      <td>0</td>\n",
              "      <td>0</td>\n",
              "      <td>1</td>\n",
              "      <td>0</td>\n",
              "    </tr>\n",
              "    <tr>\n",
              "      <th>2</th>\n",
              "      <td>0</td>\n",
              "      <td>0</td>\n",
              "      <td>0</td>\n",
              "      <td>0</td>\n",
              "      <td>0</td>\n",
              "      <td>1</td>\n",
              "      <td>0</td>\n",
              "      <td>1</td>\n",
              "      <td>0</td>\n",
              "      <td>0</td>\n",
              "      <td>0</td>\n",
              "      <td>0</td>\n",
              "      <td>0</td>\n",
              "      <td>0</td>\n",
              "      <td>0</td>\n",
              "      <td>0</td>\n",
              "      <td>1</td>\n",
              "      <td>0</td>\n",
              "      <td>0</td>\n",
              "      <td>0</td>\n",
              "      <td>0</td>\n",
              "      <td>0</td>\n",
              "      <td>0</td>\n",
              "      <td>0</td>\n",
              "      <td>0</td>\n",
              "      <td>0</td>\n",
              "      <td>0</td>\n",
              "      <td>1</td>\n",
              "      <td>0</td>\n",
              "    </tr>\n",
              "    <tr>\n",
              "      <th>3</th>\n",
              "      <td>0</td>\n",
              "      <td>0</td>\n",
              "      <td>0</td>\n",
              "      <td>0</td>\n",
              "      <td>0</td>\n",
              "      <td>0</td>\n",
              "      <td>0</td>\n",
              "      <td>0</td>\n",
              "      <td>0</td>\n",
              "      <td>0</td>\n",
              "      <td>0</td>\n",
              "      <td>0</td>\n",
              "      <td>0</td>\n",
              "      <td>0</td>\n",
              "      <td>0</td>\n",
              "      <td>0</td>\n",
              "      <td>0</td>\n",
              "      <td>0</td>\n",
              "      <td>0</td>\n",
              "      <td>0</td>\n",
              "      <td>0</td>\n",
              "      <td>1</td>\n",
              "      <td>0</td>\n",
              "      <td>0</td>\n",
              "      <td>0</td>\n",
              "      <td>0</td>\n",
              "      <td>0</td>\n",
              "      <td>0</td>\n",
              "      <td>0</td>\n",
              "    </tr>\n",
              "    <tr>\n",
              "      <th>4</th>\n",
              "      <td>0</td>\n",
              "      <td>0</td>\n",
              "      <td>1</td>\n",
              "      <td>0</td>\n",
              "      <td>0</td>\n",
              "      <td>1</td>\n",
              "      <td>0</td>\n",
              "      <td>0</td>\n",
              "      <td>0</td>\n",
              "      <td>0</td>\n",
              "      <td>0</td>\n",
              "      <td>0</td>\n",
              "      <td>0</td>\n",
              "      <td>0</td>\n",
              "      <td>0</td>\n",
              "      <td>0</td>\n",
              "      <td>0</td>\n",
              "      <td>0</td>\n",
              "      <td>1</td>\n",
              "      <td>0</td>\n",
              "      <td>0</td>\n",
              "      <td>0</td>\n",
              "      <td>0</td>\n",
              "      <td>0</td>\n",
              "      <td>0</td>\n",
              "      <td>0</td>\n",
              "      <td>0</td>\n",
              "      <td>0</td>\n",
              "      <td>1</td>\n",
              "    </tr>\n",
              "  </tbody>\n",
              "</table>\n",
              "</div>"
            ],
            "text/plain": [
              "   a15  aty  b19  c1  c55  da  dfa  n0  ...  n4  n5  n6  n7  n8  n9  nim  proaty\n",
              "0    0    0    0   0    0   0    0   0  ...   0   0   0   0   1   0    0       0\n",
              "1    0    0    0   0    0   0    0   0  ...   0   0   1   1   0   0    1       0\n",
              "2    0    0    0   0    0   1    0   1  ...   0   0   0   0   0   0    1       0\n",
              "3    0    0    0   0    0   0    0   0  ...   1   0   0   0   0   0    0       0\n",
              "4    0    0    1   0    0   1    0   0  ...   0   0   0   0   0   0    0       1\n",
              "\n",
              "[5 rows x 29 columns]"
            ]
          },
          "metadata": {},
          "execution_count": 61
        }
      ]
    },
    {
      "cell_type": "code",
      "metadata": {
        "id": "E9bn8EXSd-E1"
      },
      "source": [
        "# merge dataframes\n",
        "df_credit_risk_clean = pd.concat([df_credit_risk_clean, df_tag], axis = 1)\n",
        "\n",
        "# exclude 'profile_tag'\n",
        "df_credit_risk_clean.drop(labels = ['profile_tags'], axis = 1, inplace = True)"
      ],
      "execution_count": 62,
      "outputs": []
    },
    {
      "cell_type": "markdown",
      "metadata": {
        "id": "GtxIxi_UOzJ4"
      },
      "source": [
        "### marketing_channel, email, facebook_profile\n",
        "\n",
        "* *@outlook.com* possui maior probabilidade de inadimplência;\n",
        "* perfil no facebook possue maior probabilidade de inadimplência;\n",
        "\n",
        "\n",
        "\n"
      ]
    },
    {
      "cell_type": "code",
      "metadata": {
        "colab": {
          "base_uri": "https://localhost:8080/",
          "height": 585
        },
        "id": "lnGQbWbuOcPU",
        "outputId": "2d6a767e-66e0-4880-9cfb-44d57b6cc990"
      },
      "source": [
        "categorical = ['marketing_channel', 'email', 'facebook_profile']\n",
        "\n",
        "fig = plt.figure(figsize=(20,8))\n",
        "    \n",
        "for i in range(len(categorical)):\n",
        "    to_plot = df_credit_risk_clean.groupby(categorical[i]).target_default.mean().sort_values()\n",
        "    ax = fig.add_subplot(1, 3, i+1)\n",
        "    rects = ax.barh(to_plot.index, to_plot, color=sns.color_palette('Set1'), alpha=0.6)\n",
        "    ax.grid(False)\n",
        "    ax.tick_params(labelleft=True)\n",
        "    ax.set_title(f'{categorical[i].title()} vs Inadimplência', alpha=0.5)\n",
        "    ax.tick_params(colors='grey')\n",
        "    \n",
        "    for rect in (rects):\n",
        "        width = rect.get_width()\n",
        "        ax.text(y=rect.get_y() + rect.get_height() / 2, x=width * 0.5, s=round(width, 2), ha='center', va='center', alpha=0.5, fontweight='bold')\n",
        "\n",
        "plt.tight_layout()\n",
        "plt.show()"
      ],
      "execution_count": 63,
      "outputs": [
        {
          "output_type": "display_data",
          "data": {
            "image/png": "[encoded data removed]",
            "text/plain": [
              "<Figure size 1440x576 with 3 Axes>"
            ]
          },
          "metadata": {
            "needs_background": "dark"
          }
        }
      ]
    },
    {
      "cell_type": "markdown",
      "metadata": {
        "id": "-huCMJAlO3w-"
      },
      "source": [
        "### categorica values\n",
        "* valores mais altos na coluna *n_bankruptcies* (n_falências) implicam em maior chance de inadimplência;\n",
        "* valores mais altos na coluna *external_data_provider_email_seen_before* implicam em menor chance de inadimplência;"
      ]
    },
    {
      "cell_type": "code",
      "metadata": {
        "colab": {
          "base_uri": "https://localhost:8080/",
          "height": 1000
        },
        "id": "_BSLesHLOuwh",
        "outputId": "62b6fabb-afb4-47ca-e70b-18b5c4dafb1e"
      },
      "source": [
        "numeric = ['risk_rate', 'income', 'n_bankruptcies', 'n_accounts',\n",
        " 'n_issues', 'application_time_in_funnel', 'external_data_provider_email_seen_before',\n",
        " 'external_data_provider_fraud_score']\n",
        "\n",
        "fig = plt.figure(figsize=(20, 15))\n",
        "\n",
        "for i in range(len(numeric)):\n",
        "    num_plot = df_credit_risk_clean.groupby(numeric[i]).target_default.mean()\n",
        "    ax = fig.add_subplot(3, 3, i+1)\n",
        "    ax.scatter(num_plot.index, num_plot)\n",
        "    ax.set_title(f'{numeric[i]} vs Inadimplência', alpha=0.6)\n",
        "    ax.tick_params(colors='grey')\n",
        "\n",
        "plt.tight_layout()\n",
        "plt.savefig('num.png')\n",
        "plt.show()"
      ],
      "execution_count": 64,
      "outputs": [
        {
          "output_type": "display_data",
          "data": {
            "image/png": "[encoded data removed]",
            "text/plain": [
              "<Figure size 1440x1080 with 8 Axes>"
            ]
          },
          "metadata": {
            "needs_background": "dark"
          }
        }
      ]
    },
    {
      "cell_type": "markdown",
      "metadata": {
        "id": "kgkpDx5hNJdk"
      },
      "source": [
        "### shipping_state"
      ]
    },
    {
      "cell_type": "code",
      "metadata": {
        "id": "GOUxx5OQNKWY"
      },
      "source": [
        "#Dicionário de estado por região\n",
        "dict_regiao = {'RS' : 'Sul', \n",
        "               'RR': 'Norte', \n",
        "               'MT': 'Centro-Oeste', \n",
        "               'SP': 'Sudeste', \n",
        "               'AC': 'Norte', \n",
        "               'MS': 'Centro-Oeste', \n",
        "               'PE': 'Nordeste',\n",
        "               'AM': 'Norte', \n",
        "               'CE': 'Nordeste', \n",
        "               'AP': 'Norte', \n",
        "               'MA': 'Nosdeste', \n",
        "               'BA': 'Nordeste', \n",
        "               'TO': 'Norte', \n",
        "               'RO': 'Norte',\n",
        "               'GO': 'Centro-Oeste', \n",
        "               'SE': 'Nordeste', \n",
        "               'RN': 'Nordeste', \n",
        "               'MG': 'Sudeste', \n",
        "               'ES': 'Sudeste', \n",
        "               'PR': 'Sul', \n",
        "               'DF': 'Centro-Oeste',\n",
        "               'SC': 'Sul', \n",
        "               'PA': 'Norte', \n",
        "               'AL': 'Nordeste', \n",
        "               'PB': 'Nordeste'}"
      ],
      "execution_count": 65,
      "outputs": []
    },
    {
      "cell_type": "code",
      "metadata": {
        "id": "LCdQVHxUNUVC"
      },
      "source": [
        "#Criando uma variável por região\n",
        "df_credit_risk_clean['regiao'] = df_credit_risk_clean['shipping_state'].apply(lambda x: dict_regiao[x])\n",
        "\n",
        "\n",
        "#Eliminando a variável shipping_state\n",
        "df_credit_risk_clean.drop(labels = ['shipping_state'], axis = 1, inplace = True)"
      ],
      "execution_count": 66,
      "outputs": []
    },
    {
      "cell_type": "markdown",
      "metadata": {
        "id": "_uHdrSikPKak"
      },
      "source": [
        "### balanced data"
      ]
    },
    {
      "cell_type": "code",
      "metadata": {
        "colab": {
          "base_uri": "https://localhost:8080/",
          "height": 307
        },
        "id": "LLBxnzsYPM4Z",
        "outputId": "a61b5199-0ab4-4a10-acd1-c482d2aa18e0"
      },
      "source": [
        "# Definindo os parâmetros de style para o matplotlib\n",
        "rc_params = {'axes.edgecolor':'#787878', \n",
        "             'axes.titlecolor':'#787878', \n",
        "             'axes.labelcolor': '#787878', \n",
        "             'axes.spines.top':False, \n",
        "             'axes.spines.right': False, \n",
        "             'xtick.color': '#787878', \n",
        "             'ytick.color': '#787878',\n",
        "             'axes.titleweight': 'bold',\n",
        "             'axes.titlesize': 12,\n",
        "             'axes.titlepad': 12\n",
        "             }\n",
        "\n",
        "#setando os parâmetros no matplotlib\n",
        "with plt.rc_context(rc_params):\n",
        "\n",
        "  #Instanciando a Figure e Axes\n",
        "  fig, ax = plt.subplots()\n",
        "\n",
        "  #Criando o gráfico de countplot\n",
        "  sns.countplot(x = 'target_default', \n",
        "                data = df_credit_risk_clean,\n",
        "                ax = ax,\n",
        "                palette = \"Pastel2\")\n",
        "  \n",
        "  #Exibindo o título\n",
        "  ax.set_title(\"Quantidade de default e não default\")\n",
        "\n",
        "  #Armazena o % da amostra\n",
        "  percentual_default = round((df_credit_risk_clean['target_default'].value_counts()[1] / df_credit_risk_clean.shape[0])*100,2)\n",
        "\n",
        "  #Criar uma informação no gráfico\n",
        "  ax.annotate(str(percentual_default) + \"% da amostra\", \n",
        "              xy = (1, df_credit_risk_clean['target_default'].value_counts()[1]), \n",
        "              xytext = (25,25), \n",
        "              color = \"#787878\",\n",
        "              weight = 'bold', \n",
        "              textcoords='offset points',\n",
        "              arrowprops=dict(color = '#787878',  shrink= 0.05, width = 0.01, headwidth = 7))\n",
        "\n",
        "  #Exibindo o gráfico\n",
        "  plt.show()"
      ],
      "execution_count": 67,
      "outputs": [
        {
          "output_type": "display_data",
          "data": {
            "image/png": "[encoded data removed]",
            "text/plain": [
              "<Figure size 432x288 with 1 Axes>"
            ]
          },
          "metadata": {
            "needs_background": "light"
          }
        }
      ]
    },
    {
      "cell_type": "markdown",
      "metadata": {
        "id": "j2ljIX1LPUj0"
      },
      "source": [
        "# Model"
      ]
    },
    {
      "cell_type": "markdown",
      "metadata": {
        "id": "EBfTvqblPjzx"
      },
      "source": [
        "## Data Preparation"
      ]
    },
    {
      "cell_type": "code",
      "metadata": {
        "colab": {
          "base_uri": "https://localhost:8080/",
          "height": 270
        },
        "id": "7aJ8jw3Qye17",
        "outputId": "cd0809fe-1169-47e5-c63c-20edbd4eadc4"
      },
      "source": [
        "# transform categorical variables into numerical\n",
        "coluns_encode = ['score_1',\n",
        "               'score_2',\n",
        "               'facebook_profile',\n",
        "               'real_state']\n",
        "\n",
        "for col in coluns_encode:\n",
        "    encoder = LabelEncoder().fit(df_credit_risk_clean[col])\n",
        "    df_credit_risk_clean[col] = encoder.transform(df_credit_risk_clean[col])\n",
        "\n",
        "col_dummies = coluns_encode + ['application_time_applied', 'email', 'marketing_channel', 'regiao']\n",
        "col_dummies.remove('facebook_profile')\n",
        "\n",
        "df_credit_risk_clean = pd.get_dummies(df_credit_risk_clean, columns=col_dummies)\n",
        "\n",
        "df_credit_risk_clean.head()"
      ],
      "execution_count": 69,
      "outputs": [
        {
          "output_type": "execute_result",
          "data": {
            "text/html": [
              "<div>\n",
              "<style scoped>\n",
              "    .dataframe tbody tr th:only-of-type {\n",
              "        vertical-align: middle;\n",
              "    }\n",
              "\n",
              "    .dataframe tbody tr th {\n",
              "        vertical-align: top;\n",
              "    }\n",
              "\n",
              "    .dataframe thead th {\n",
              "        text-align: right;\n",
              "    }\n",
              "</style>\n",
              "<table border=\"1\" class=\"dataframe\">\n",
              "  <thead>\n",
              "    <tr style=\"text-align: right;\">\n",
              "      <th></th>\n",
              "      <th>target_default</th>\n",
              "      <th>score_3</th>\n",
              "      <th>score_4</th>\n",
              "      <th>score_5</th>\n",
              "      <th>score_6</th>\n",
              "      <th>risk_rate</th>\n",
              "      <th>credit_limit</th>\n",
              "      <th>income</th>\n",
              "      <th>facebook_profile</th>\n",
              "      <th>n_bankruptcies</th>\n",
              "      <th>n_defaulted_loans</th>\n",
              "      <th>n_accounts</th>\n",
              "      <th>n_issues</th>\n",
              "      <th>application_time_in_funnel</th>\n",
              "      <th>external_data_provider_credit_checks_last_month</th>\n",
              "      <th>external_data_provider_credit_checks_last_year</th>\n",
              "      <th>external_data_provider_email_seen_before</th>\n",
              "      <th>external_data_provider_fraud_score</th>\n",
              "      <th>reported_income</th>\n",
              "      <th>a15</th>\n",
              "      <th>aty</th>\n",
              "      <th>b19</th>\n",
              "      <th>c1</th>\n",
              "      <th>c55</th>\n",
              "      <th>da</th>\n",
              "      <th>dfa</th>\n",
              "      <th>n0</th>\n",
              "      <th>n1</th>\n",
              "      <th>n10</th>\n",
              "      <th>n11</th>\n",
              "      <th>n12</th>\n",
              "      <th>n13</th>\n",
              "      <th>n14</th>\n",
              "      <th>n15</th>\n",
              "      <th>n16</th>\n",
              "      <th>n17</th>\n",
              "      <th>n18</th>\n",
              "      <th>n19</th>\n",
              "      <th>n2</th>\n",
              "      <th>n3</th>\n",
              "      <th>...</th>\n",
              "      <th>application_time_applied_4</th>\n",
              "      <th>application_time_applied_5</th>\n",
              "      <th>application_time_applied_6</th>\n",
              "      <th>application_time_applied_7</th>\n",
              "      <th>application_time_applied_8</th>\n",
              "      <th>application_time_applied_9</th>\n",
              "      <th>application_time_applied_10</th>\n",
              "      <th>application_time_applied_11</th>\n",
              "      <th>application_time_applied_12</th>\n",
              "      <th>application_time_applied_13</th>\n",
              "      <th>application_time_applied_14</th>\n",
              "      <th>application_time_applied_15</th>\n",
              "      <th>application_time_applied_16</th>\n",
              "      <th>application_time_applied_17</th>\n",
              "      <th>application_time_applied_18</th>\n",
              "      <th>application_time_applied_19</th>\n",
              "      <th>application_time_applied_20</th>\n",
              "      <th>application_time_applied_21</th>\n",
              "      <th>application_time_applied_22</th>\n",
              "      <th>application_time_applied_23</th>\n",
              "      <th>application_time_applied_24</th>\n",
              "      <th>email_gmail.com</th>\n",
              "      <th>email_hotmail.com</th>\n",
              "      <th>email_outlook.com</th>\n",
              "      <th>email_spgov.com</th>\n",
              "      <th>marketing_channel_Facebook</th>\n",
              "      <th>marketing_channel_Instagram</th>\n",
              "      <th>marketing_channel_Invite-email</th>\n",
              "      <th>marketing_channel_Invite-web</th>\n",
              "      <th>marketing_channel_LinkedIn</th>\n",
              "      <th>marketing_channel_Radio-commercial</th>\n",
              "      <th>marketing_channel_Twitter</th>\n",
              "      <th>marketing_channel_Waiting-list</th>\n",
              "      <th>marketing_channel_Website</th>\n",
              "      <th>regiao_Centro-Oeste</th>\n",
              "      <th>regiao_Nordeste</th>\n",
              "      <th>regiao_Norte</th>\n",
              "      <th>regiao_Nosdeste</th>\n",
              "      <th>regiao_Sudeste</th>\n",
              "      <th>regiao_Sul</th>\n",
              "    </tr>\n",
              "  </thead>\n",
              "  <tbody>\n",
              "    <tr>\n",
              "      <th>0</th>\n",
              "      <td>0</td>\n",
              "      <td>350.0</td>\n",
              "      <td>101.800832</td>\n",
              "      <td>0.259555</td>\n",
              "      <td>108.427273</td>\n",
              "      <td>0.40</td>\n",
              "      <td>0.0</td>\n",
              "      <td>65014.12</td>\n",
              "      <td>1</td>\n",
              "      <td>0.0</td>\n",
              "      <td>0.0</td>\n",
              "      <td>18.0</td>\n",
              "      <td>18.0</td>\n",
              "      <td>444</td>\n",
              "      <td>2</td>\n",
              "      <td>0.0</td>\n",
              "      <td>51.0</td>\n",
              "      <td>645</td>\n",
              "      <td>57849.0</td>\n",
              "      <td>0</td>\n",
              "      <td>0</td>\n",
              "      <td>0</td>\n",
              "      <td>0</td>\n",
              "      <td>0</td>\n",
              "      <td>0</td>\n",
              "      <td>0</td>\n",
              "      <td>0</td>\n",
              "      <td>0</td>\n",
              "      <td>0</td>\n",
              "      <td>0</td>\n",
              "      <td>0</td>\n",
              "      <td>0</td>\n",
              "      <td>0</td>\n",
              "      <td>0</td>\n",
              "      <td>0</td>\n",
              "      <td>0</td>\n",
              "      <td>0</td>\n",
              "      <td>1</td>\n",
              "      <td>0</td>\n",
              "      <td>0</td>\n",
              "      <td>...</td>\n",
              "      <td>0</td>\n",
              "      <td>0</td>\n",
              "      <td>0</td>\n",
              "      <td>1</td>\n",
              "      <td>0</td>\n",
              "      <td>0</td>\n",
              "      <td>0</td>\n",
              "      <td>0</td>\n",
              "      <td>0</td>\n",
              "      <td>0</td>\n",
              "      <td>0</td>\n",
              "      <td>0</td>\n",
              "      <td>0</td>\n",
              "      <td>0</td>\n",
              "      <td>0</td>\n",
              "      <td>0</td>\n",
              "      <td>0</td>\n",
              "      <td>0</td>\n",
              "      <td>0</td>\n",
              "      <td>0</td>\n",
              "      <td>0</td>\n",
              "      <td>0</td>\n",
              "      <td>0</td>\n",
              "      <td>1</td>\n",
              "      <td>0</td>\n",
              "      <td>0</td>\n",
              "      <td>0</td>\n",
              "      <td>1</td>\n",
              "      <td>0</td>\n",
              "      <td>0</td>\n",
              "      <td>0</td>\n",
              "      <td>0</td>\n",
              "      <td>0</td>\n",
              "      <td>0</td>\n",
              "      <td>1</td>\n",
              "      <td>0</td>\n",
              "      <td>0</td>\n",
              "      <td>0</td>\n",
              "      <td>0</td>\n",
              "      <td>0</td>\n",
              "    </tr>\n",
              "    <tr>\n",
              "      <th>1</th>\n",
              "      <td>0</td>\n",
              "      <td>370.0</td>\n",
              "      <td>97.062615</td>\n",
              "      <td>0.942655</td>\n",
              "      <td>92.002546</td>\n",
              "      <td>0.24</td>\n",
              "      <td>39726.0</td>\n",
              "      <td>100018.91</td>\n",
              "      <td>0</td>\n",
              "      <td>0.0</td>\n",
              "      <td>0.0</td>\n",
              "      <td>14.0</td>\n",
              "      <td>14.0</td>\n",
              "      <td>346</td>\n",
              "      <td>1</td>\n",
              "      <td>0.0</td>\n",
              "      <td>17.0</td>\n",
              "      <td>243</td>\n",
              "      <td>4902.0</td>\n",
              "      <td>0</td>\n",
              "      <td>0</td>\n",
              "      <td>0</td>\n",
              "      <td>0</td>\n",
              "      <td>0</td>\n",
              "      <td>0</td>\n",
              "      <td>0</td>\n",
              "      <td>0</td>\n",
              "      <td>0</td>\n",
              "      <td>0</td>\n",
              "      <td>0</td>\n",
              "      <td>0</td>\n",
              "      <td>0</td>\n",
              "      <td>0</td>\n",
              "      <td>0</td>\n",
              "      <td>0</td>\n",
              "      <td>0</td>\n",
              "      <td>0</td>\n",
              "      <td>0</td>\n",
              "      <td>0</td>\n",
              "      <td>0</td>\n",
              "      <td>...</td>\n",
              "      <td>0</td>\n",
              "      <td>0</td>\n",
              "      <td>0</td>\n",
              "      <td>0</td>\n",
              "      <td>0</td>\n",
              "      <td>0</td>\n",
              "      <td>0</td>\n",
              "      <td>0</td>\n",
              "      <td>0</td>\n",
              "      <td>0</td>\n",
              "      <td>0</td>\n",
              "      <td>0</td>\n",
              "      <td>0</td>\n",
              "      <td>0</td>\n",
              "      <td>0</td>\n",
              "      <td>0</td>\n",
              "      <td>0</td>\n",
              "      <td>0</td>\n",
              "      <td>0</td>\n",
              "      <td>0</td>\n",
              "      <td>0</td>\n",
              "      <td>1</td>\n",
              "      <td>0</td>\n",
              "      <td>0</td>\n",
              "      <td>0</td>\n",
              "      <td>0</td>\n",
              "      <td>0</td>\n",
              "      <td>0</td>\n",
              "      <td>0</td>\n",
              "      <td>0</td>\n",
              "      <td>1</td>\n",
              "      <td>0</td>\n",
              "      <td>0</td>\n",
              "      <td>0</td>\n",
              "      <td>0</td>\n",
              "      <td>0</td>\n",
              "      <td>0</td>\n",
              "      <td>0</td>\n",
              "      <td>0</td>\n",
              "      <td>1</td>\n",
              "    </tr>\n",
              "    <tr>\n",
              "      <th>2</th>\n",
              "      <td>1</td>\n",
              "      <td>360.0</td>\n",
              "      <td>100.027073</td>\n",
              "      <td>0.351918</td>\n",
              "      <td>112.892453</td>\n",
              "      <td>0.29</td>\n",
              "      <td>25206.0</td>\n",
              "      <td>65023.65</td>\n",
              "      <td>0</td>\n",
              "      <td>0.0</td>\n",
              "      <td>0.0</td>\n",
              "      <td>10.0</td>\n",
              "      <td>10.0</td>\n",
              "      <td>6</td>\n",
              "      <td>2</td>\n",
              "      <td>1.0</td>\n",
              "      <td>9.0</td>\n",
              "      <td>65</td>\n",
              "      <td>163679.0</td>\n",
              "      <td>0</td>\n",
              "      <td>0</td>\n",
              "      <td>0</td>\n",
              "      <td>0</td>\n",
              "      <td>0</td>\n",
              "      <td>1</td>\n",
              "      <td>0</td>\n",
              "      <td>1</td>\n",
              "      <td>0</td>\n",
              "      <td>0</td>\n",
              "      <td>0</td>\n",
              "      <td>0</td>\n",
              "      <td>0</td>\n",
              "      <td>0</td>\n",
              "      <td>0</td>\n",
              "      <td>0</td>\n",
              "      <td>1</td>\n",
              "      <td>0</td>\n",
              "      <td>0</td>\n",
              "      <td>0</td>\n",
              "      <td>0</td>\n",
              "      <td>...</td>\n",
              "      <td>0</td>\n",
              "      <td>0</td>\n",
              "      <td>0</td>\n",
              "      <td>0</td>\n",
              "      <td>0</td>\n",
              "      <td>0</td>\n",
              "      <td>0</td>\n",
              "      <td>0</td>\n",
              "      <td>0</td>\n",
              "      <td>0</td>\n",
              "      <td>0</td>\n",
              "      <td>0</td>\n",
              "      <td>0</td>\n",
              "      <td>0</td>\n",
              "      <td>0</td>\n",
              "      <td>0</td>\n",
              "      <td>0</td>\n",
              "      <td>0</td>\n",
              "      <td>0</td>\n",
              "      <td>0</td>\n",
              "      <td>0</td>\n",
              "      <td>1</td>\n",
              "      <td>0</td>\n",
              "      <td>0</td>\n",
              "      <td>0</td>\n",
              "      <td>0</td>\n",
              "      <td>0</td>\n",
              "      <td>0</td>\n",
              "      <td>0</td>\n",
              "      <td>0</td>\n",
              "      <td>0</td>\n",
              "      <td>0</td>\n",
              "      <td>1</td>\n",
              "      <td>0</td>\n",
              "      <td>0</td>\n",
              "      <td>0</td>\n",
              "      <td>1</td>\n",
              "      <td>0</td>\n",
              "      <td>0</td>\n",
              "      <td>0</td>\n",
              "    </tr>\n",
              "    <tr>\n",
              "      <th>3</th>\n",
              "      <td>0</td>\n",
              "      <td>510.0</td>\n",
              "      <td>101.599485</td>\n",
              "      <td>0.987673</td>\n",
              "      <td>94.902491</td>\n",
              "      <td>0.32</td>\n",
              "      <td>54591.0</td>\n",
              "      <td>68830.01</td>\n",
              "      <td>0</td>\n",
              "      <td>1.0</td>\n",
              "      <td>0.0</td>\n",
              "      <td>19.0</td>\n",
              "      <td>19.0</td>\n",
              "      <td>406</td>\n",
              "      <td>3</td>\n",
              "      <td>1.0</td>\n",
              "      <td>38.0</td>\n",
              "      <td>815</td>\n",
              "      <td>1086.0</td>\n",
              "      <td>0</td>\n",
              "      <td>0</td>\n",
              "      <td>0</td>\n",
              "      <td>0</td>\n",
              "      <td>0</td>\n",
              "      <td>0</td>\n",
              "      <td>0</td>\n",
              "      <td>0</td>\n",
              "      <td>0</td>\n",
              "      <td>0</td>\n",
              "      <td>0</td>\n",
              "      <td>0</td>\n",
              "      <td>0</td>\n",
              "      <td>0</td>\n",
              "      <td>0</td>\n",
              "      <td>0</td>\n",
              "      <td>0</td>\n",
              "      <td>0</td>\n",
              "      <td>0</td>\n",
              "      <td>0</td>\n",
              "      <td>0</td>\n",
              "      <td>...</td>\n",
              "      <td>0</td>\n",
              "      <td>0</td>\n",
              "      <td>0</td>\n",
              "      <td>0</td>\n",
              "      <td>0</td>\n",
              "      <td>0</td>\n",
              "      <td>0</td>\n",
              "      <td>1</td>\n",
              "      <td>0</td>\n",
              "      <td>0</td>\n",
              "      <td>0</td>\n",
              "      <td>0</td>\n",
              "      <td>0</td>\n",
              "      <td>0</td>\n",
              "      <td>0</td>\n",
              "      <td>0</td>\n",
              "      <td>0</td>\n",
              "      <td>0</td>\n",
              "      <td>0</td>\n",
              "      <td>0</td>\n",
              "      <td>0</td>\n",
              "      <td>0</td>\n",
              "      <td>0</td>\n",
              "      <td>0</td>\n",
              "      <td>1</td>\n",
              "      <td>0</td>\n",
              "      <td>0</td>\n",
              "      <td>0</td>\n",
              "      <td>0</td>\n",
              "      <td>0</td>\n",
              "      <td>0</td>\n",
              "      <td>0</td>\n",
              "      <td>1</td>\n",
              "      <td>0</td>\n",
              "      <td>0</td>\n",
              "      <td>1</td>\n",
              "      <td>0</td>\n",
              "      <td>0</td>\n",
              "      <td>0</td>\n",
              "      <td>0</td>\n",
              "    </tr>\n",
              "    <tr>\n",
              "      <th>4</th>\n",
              "      <td>0</td>\n",
              "      <td>500.0</td>\n",
              "      <td>98.474289</td>\n",
              "      <td>0.532539</td>\n",
              "      <td>118.126207</td>\n",
              "      <td>0.18</td>\n",
              "      <td>25206.0</td>\n",
              "      <td>60011.29</td>\n",
              "      <td>1</td>\n",
              "      <td>0.0</td>\n",
              "      <td>0.0</td>\n",
              "      <td>11.0</td>\n",
              "      <td>10.0</td>\n",
              "      <td>240</td>\n",
              "      <td>2</td>\n",
              "      <td>1.0</td>\n",
              "      <td>46.0</td>\n",
              "      <td>320</td>\n",
              "      <td>198618.0</td>\n",
              "      <td>0</td>\n",
              "      <td>0</td>\n",
              "      <td>1</td>\n",
              "      <td>0</td>\n",
              "      <td>0</td>\n",
              "      <td>1</td>\n",
              "      <td>0</td>\n",
              "      <td>0</td>\n",
              "      <td>0</td>\n",
              "      <td>0</td>\n",
              "      <td>0</td>\n",
              "      <td>0</td>\n",
              "      <td>0</td>\n",
              "      <td>0</td>\n",
              "      <td>0</td>\n",
              "      <td>0</td>\n",
              "      <td>0</td>\n",
              "      <td>0</td>\n",
              "      <td>1</td>\n",
              "      <td>0</td>\n",
              "      <td>0</td>\n",
              "      <td>...</td>\n",
              "      <td>0</td>\n",
              "      <td>0</td>\n",
              "      <td>0</td>\n",
              "      <td>0</td>\n",
              "      <td>0</td>\n",
              "      <td>0</td>\n",
              "      <td>0</td>\n",
              "      <td>0</td>\n",
              "      <td>0</td>\n",
              "      <td>1</td>\n",
              "      <td>0</td>\n",
              "      <td>0</td>\n",
              "      <td>0</td>\n",
              "      <td>0</td>\n",
              "      <td>0</td>\n",
              "      <td>0</td>\n",
              "      <td>0</td>\n",
              "      <td>0</td>\n",
              "      <td>0</td>\n",
              "      <td>0</td>\n",
              "      <td>0</td>\n",
              "      <td>1</td>\n",
              "      <td>0</td>\n",
              "      <td>0</td>\n",
              "      <td>0</td>\n",
              "      <td>0</td>\n",
              "      <td>0</td>\n",
              "      <td>1</td>\n",
              "      <td>0</td>\n",
              "      <td>0</td>\n",
              "      <td>0</td>\n",
              "      <td>0</td>\n",
              "      <td>0</td>\n",
              "      <td>0</td>\n",
              "      <td>1</td>\n",
              "      <td>0</td>\n",
              "      <td>0</td>\n",
              "      <td>0</td>\n",
              "      <td>0</td>\n",
              "      <td>0</td>\n",
              "    </tr>\n",
              "  </tbody>\n",
              "</table>\n",
              "<p>5 rows × 139 columns</p>\n",
              "</div>"
            ],
            "text/plain": [
              "   target_default  score_3  ...  regiao_Sudeste  regiao_Sul\n",
              "0               0    350.0  ...               0           0\n",
              "1               0    370.0  ...               0           1\n",
              "2               1    360.0  ...               0           0\n",
              "3               0    510.0  ...               0           0\n",
              "4               0    500.0  ...               0           0\n",
              "\n",
              "[5 rows x 139 columns]"
            ]
          },
          "metadata": {},
          "execution_count": 69
        }
      ]
    },
    {
      "cell_type": "code",
      "metadata": {
        "id": "uJy3DlMBQAup"
      },
      "source": [
        "# defining the X and y values\n",
        "X = df_credit_risk_clean.drop(['target_default'], axis = 1)\n",
        "y = df_credit_risk_clean['target_default']\n",
        "\n",
        "# split datset into training and testing\n",
        "X_train, X_test, y_train, y_test = train_test_split(X, \n",
        "                                                    y, \n",
        "                                                    shuffle = True, \n",
        "                                                    stratify = y,\n",
        "                                                    random_state = 42)\n",
        "\n",
        "# scaler = StandardScaler()\n",
        "# scaler.fit(X_train)\n",
        "# X_train = scaler.transform(X_train)\n",
        "# X_test = scaler.transform(X_test)"
      ],
      "execution_count": 70,
      "outputs": []
    },
    {
      "cell_type": "markdown",
      "metadata": {
        "id": "tvxE9agB1DWI"
      },
      "source": [
        "### balanced data\n",
        "\n",
        "> balancear os dados utilizando a técninca *under-sampling*, devido a possibilidade de manter integralmente os dados originais associados a *target_default*\n"
      ]
    },
    {
      "cell_type": "code",
      "metadata": {
        "id": "Az8SU3O0QD6i"
      },
      "source": [
        "#Instanciando o objeto RandomUnderSampler()\n",
        "rus = RandomUnderSampler(random_state = 0)\n",
        "\n",
        "#Balanceando a amostra\n",
        "X_train_rus, y_train_rus = rus.fit_sample(X_train, y_train)\n",
        "\n",
        "#Transformando o array X em dataframe e y em série\n",
        "X_train_rus = pd.DataFrame(X_train_rus, columns = df_credit_risk_clean.drop(['target_default'], axis = 1).columns.to_list())\n",
        "y_train_rus = pd.Series(y_train_rus)"
      ],
      "execution_count": 71,
      "outputs": []
    },
    {
      "cell_type": "code",
      "metadata": {
        "colab": {
          "base_uri": "https://localhost:8080/",
          "height": 290
        },
        "id": "LlVBunPP0HYY",
        "outputId": "d0ed9edb-31a4-4548-b9ae-e27be4787915"
      },
      "source": [
        "#Definindo os parâmetros de style para o matplotlib\n",
        "rc_params = {'axes.edgecolor':'#787878', \n",
        "             'axes.titlecolor':'#787878', \n",
        "             'axes.labelcolor': '#787878', \n",
        "             'axes.spines.top':False, \n",
        "             'axes.spines.right': False, \n",
        "             'xtick.color': '#787878', \n",
        "             'ytick.color': '#787878',\n",
        "             'axes.titleweight': 'bold',\n",
        "             'axes.titlesize': 12,\n",
        "             'axes.titlepad': 12\n",
        "             }\n",
        "\n",
        "#setando os parâmetros no matplotlib\n",
        "with plt.rc_context(rc_params):\n",
        "\n",
        "  #Instanciando a Figure e Axes\n",
        "  fig, ax = plt.subplots()\n",
        "\n",
        "  #Criando o gráfico de countplot\n",
        "  sns.countplot(x = y_train_rus,\n",
        "                ax = ax,\n",
        "                palette = \"Pastel2\")\n",
        "  \n",
        "  #Exibindo o título\n",
        "  ax.set_title(\"Quantidade de default e não default\")\n",
        "\n",
        "  #Exibindo o gráfico\n",
        "  plt.show()"
      ],
      "execution_count": 72,
      "outputs": [
        {
          "output_type": "display_data",
          "data": {
            "image/png": "[encoded data removed]",
            "text/plain": [
              "<Figure size 432x288 with 1 Axes>"
            ]
          },
          "metadata": {
            "needs_background": "light"
          }
        }
      ]
    },
    {
      "cell_type": "markdown",
      "metadata": {
        "id": "UYmc5jeQQHtS"
      },
      "source": [
        "## Machine Learning"
      ]
    },
    {
      "cell_type": "markdown",
      "metadata": {
        "id": "dnG9fqtj2aFt"
      },
      "source": [
        "### Best model"
      ]
    },
    {
      "cell_type": "code",
      "metadata": {
        "id": "mlEI7TB2S_ZQ"
      },
      "source": [
        "var_num = ['score_3', \n",
        "           'score_4', \n",
        "           'score_5', \n",
        "           'score_6', \n",
        "           'risk_rate', \n",
        "           'income', \n",
        "           'n_bankruptcies', \n",
        "           'n_defaulted_loans', \n",
        "           'n_accounts',\n",
        "           'n_issues', \n",
        "           'application_time_applied', \n",
        "           'application_time_in_funnel', \n",
        "           'external_data_provider_credit_checks_last_month',\n",
        "           'external_data_provider_credit_checks_last_year',\n",
        "           'external_data_provider_email_seen_before',\n",
        "           'external_data_provider_fraud_score', \n",
        "           'reported_income']"
      ],
      "execution_count": 73,
      "outputs": []
    },
    {
      "cell_type": "code",
      "metadata": {
        "id": "brXaBvICQKsk"
      },
      "source": [
        "# K_fold parameters for cross_validation\n",
        "k_fold = KFold(n_splits = 5, shuffle = True, random_state = 42)\n",
        "\n",
        "# standardizing the numeric variables\n",
        "num_scaled = ColumnTransformer([(\"Padronizar\", StandardScaler(), df_credit_risk_clean.drop(['target_default'], axis = 1).columns.to_list())],\n",
        "                         remainder='passthrough')"
      ],
      "execution_count": 74,
      "outputs": []
    },
    {
      "cell_type": "code",
      "metadata": {
        "colab": {
          "base_uri": "https://localhost:8080/",
          "height": 235
        },
        "id": "j7R1pKDuQQa1",
        "outputId": "9c7a38e8-f38c-451e-aba9-c445758fd95a"
      },
      "source": [
        "name_model = []\n",
        "accuracy = []\n",
        "\n",
        "# models with hyperparameters\n",
        "model_rl = LogisticRegression(random_state = 42)\n",
        "\n",
        "model_rf = RandomForestClassifier(random_state = 42)\n",
        "\n",
        "model_svc = SVC(random_state = 42)\n",
        "\n",
        "model_knn = KNeighborsClassifier()\n",
        "\n",
        "model_xgb = XGBClassifier(random_state = 42)\n",
        "\n",
        "model_lgbm = LGBMClassifier(random_state = 42)\n",
        "\n",
        "# apply cross_validation to each model and store the result\n",
        "for model in [model_rl, model_rf, model_svc, model_knn, model_xgb, model_lgbm]:\n",
        "  pipe = make_pipeline(num_scaled, model)\n",
        "  \n",
        "  score = cross_val_score(estimator = pipe,\n",
        "                          X = X_train_rus,\n",
        "                          y = y_train_rus,\n",
        "                          scoring = 'roc_auc',\n",
        "                          cv = k_fold)\n",
        "  \n",
        "  name_model.append(model.__class__.__name__)\n",
        "  accuracy.append(score.mean())\n",
        "\n",
        "# list into dataframe\n",
        "df_model = pd.DataFrame(data = accuracy, \n",
        "                        index = name_model, \n",
        "                        columns = ['ROC_AUC'])\n",
        "\n",
        "df_model"
      ],
      "execution_count": 75,
      "outputs": [
        {
          "output_type": "execute_result",
          "data": {
            "text/html": [
              "<div>\n",
              "<style scoped>\n",
              "    .dataframe tbody tr th:only-of-type {\n",
              "        vertical-align: middle;\n",
              "    }\n",
              "\n",
              "    .dataframe tbody tr th {\n",
              "        vertical-align: top;\n",
              "    }\n",
              "\n",
              "    .dataframe thead th {\n",
              "        text-align: right;\n",
              "    }\n",
              "</style>\n",
              "<table border=\"1\" class=\"dataframe\">\n",
              "  <thead>\n",
              "    <tr style=\"text-align: right;\">\n",
              "      <th></th>\n",
              "      <th>ROC_AUC</th>\n",
              "    </tr>\n",
              "  </thead>\n",
              "  <tbody>\n",
              "    <tr>\n",
              "      <th>LogisticRegression</th>\n",
              "      <td>0.720792</td>\n",
              "    </tr>\n",
              "    <tr>\n",
              "      <th>RandomForestClassifier</th>\n",
              "      <td>0.710038</td>\n",
              "    </tr>\n",
              "    <tr>\n",
              "      <th>SVC</th>\n",
              "      <td>0.709701</td>\n",
              "    </tr>\n",
              "    <tr>\n",
              "      <th>KNeighborsClassifier</th>\n",
              "      <td>0.620384</td>\n",
              "    </tr>\n",
              "    <tr>\n",
              "      <th>XGBClassifier</th>\n",
              "      <td>0.720557</td>\n",
              "    </tr>\n",
              "    <tr>\n",
              "      <th>LGBMClassifier</th>\n",
              "      <td>0.707901</td>\n",
              "    </tr>\n",
              "  </tbody>\n",
              "</table>\n",
              "</div>"
            ],
            "text/plain": [
              "                         ROC_AUC\n",
              "LogisticRegression      0.720792\n",
              "RandomForestClassifier  0.710038\n",
              "SVC                     0.709701\n",
              "KNeighborsClassifier    0.620384\n",
              "XGBClassifier           0.720557\n",
              "LGBMClassifier          0.707901"
            ]
          },
          "metadata": {},
          "execution_count": 75
        }
      ]
    },
    {
      "cell_type": "markdown",
      "metadata": {
        "id": "ltLwmSjkIvX_"
      },
      "source": [
        "### Logistic Regression"
      ]
    },
    {
      "cell_type": "code",
      "metadata": {
        "colab": {
          "base_uri": "https://localhost:8080/"
        },
        "id": "7501aZQbQsvy",
        "outputId": "76099b46-7fca-4cdf-e5fd-a8835f9200cf"
      },
      "source": [
        "pipe_lr = make_pipeline(num_scaled, LogisticRegression(random_state = 42))\n",
        "\n",
        "# parameters for GridSearch\n",
        "param_grid_lr = {\"logisticregression__penalty\": ['l1', 'l2', 'elasticnet', 'none'],\n",
        "              \"logisticregression__C\": [100, 10, 1, 0, 0.1, 0.01],\n",
        "              \"logisticregression__solver\": ['newton-cg', 'lbfgs', 'liblinear', 'sag', 'saga']\n",
        "              }\n",
        "\n",
        "clf_lr = GridSearchCV(estimator = pipe_lr,\n",
        "                   param_grid = param_grid_lr,\n",
        "                   scoring = 'roc_auc',\n",
        "                   n_jobs = -1,\n",
        "                   cv = k_fold)\n",
        "\n",
        "clf_lr.fit(X = X_train_rus, \n",
        "           y = y_train_rus)\n",
        "\n",
        "# best parameter\n",
        "clf_lr.best_params_"
      ],
      "execution_count": 76,
      "outputs": [
        {
          "output_type": "execute_result",
          "data": {
            "text/plain": [
              "{'logisticregression__C': 0.1,\n",
              " 'logisticregression__penalty': 'l1',\n",
              " 'logisticregression__solver': 'saga'}"
            ]
          },
          "metadata": {},
          "execution_count": 76
        }
      ]
    },
    {
      "cell_type": "code",
      "metadata": {
        "colab": {
          "base_uri": "https://localhost:8080/"
        },
        "id": "0p4PW0e7QwVc",
        "outputId": "5cdc52e1-501e-4a31-b38d-844055116470"
      },
      "source": [
        "# score fo the best parameters\n",
        "clf_lr.best_score_"
      ],
      "execution_count": 78,
      "outputs": [
        {
          "output_type": "execute_result",
          "data": {
            "text/plain": [
              "0.7218066980992842"
            ]
          },
          "metadata": {},
          "execution_count": 78
        }
      ]
    },
    {
      "cell_type": "markdown",
      "metadata": {
        "id": "a9PzOXKHIz1u"
      },
      "source": [
        "### XGBoost"
      ]
    },
    {
      "cell_type": "code",
      "metadata": {
        "id": "_oJfRkIR_D-1"
      },
      "source": [
        "pipe_xgb = make_pipeline(num_scaled, XGBClassifier(random_state = 42))\n",
        "\n",
        "# parameters for GridSearch\n",
        "param_grid_xgb = {\"xgbclassifier__min_child_weight\": [1, 5, 10],\n",
        "                  \"xgbclassifier__gamma\": [0.5, 1, 1.5, 2, 5],\n",
        "                  \"xgbclassifier__subsample\": [0.6, 0.8, 1.0],\n",
        "                  \"xgbclassifier__colsample_bytree\": [0.6, 0.8, 1.0],\n",
        "                  \"xgbclassifier__max_depth\": [3, 4, 5]\n",
        "                 }\n",
        "\n",
        "clf_xgb = GridSearchCV(estimator = pipe_xgb,\n",
        "                   param_grid = param_grid_xgb,\n",
        "                   scoring = 'roc_auc',\n",
        "                   n_jobs = -1,\n",
        "                   cv = k_fold)\n",
        "\n",
        "clf_xgb.fit(X = X_train_rus, \n",
        "            y = y_train_rus)\n",
        "\n",
        "clf_xgb.best_params_"
      ],
      "execution_count": null,
      "outputs": []
    },
    {
      "cell_type": "code",
      "metadata": {
        "colab": {
          "base_uri": "https://localhost:8080/"
        },
        "id": "xiLPm437_dfq",
        "outputId": "ada81218-8e13-4788-d228-10e2181825c3"
      },
      "source": [
        "# best parameter\n",
        "clf_xgb.best_score_"
      ],
      "execution_count": null,
      "outputs": [
        {
          "output_type": "execute_result",
          "data": {
            "text/plain": [
              "0.7229131289848809"
            ]
          },
          "metadata": {},
          "execution_count": 34
        }
      ]
    },
    {
      "cell_type": "markdown",
      "metadata": {
        "id": "qn943by_Q1Z2"
      },
      "source": [
        "## Feature Selection"
      ]
    },
    {
      "cell_type": "markdown",
      "metadata": {
        "id": "LYHUf_Dmffyg"
      },
      "source": [
        "### Logistic Regression"
      ]
    },
    {
      "cell_type": "code",
      "metadata": {
        "id": "o3CX4tjtQ3L5"
      },
      "source": [
        "model_lr = LogisticRegression(C= 0.1,\n",
        "                              penalty='l1',\n",
        "                              solver='saga',\n",
        "                              random_state = 42)\n",
        "\n",
        "# k features\n",
        "k_val = []\n",
        "score_val = []\n",
        "\n",
        "for k in range(2, X_train_rus.shape[1], 2):\n",
        "  selector = SelectFromModel(model_lr, \n",
        "                             max_features = k, \n",
        "                             threshold = -np.inf)\n",
        "\n",
        "  selector.fit(X_train_rus, y_train_rus)\n",
        "  mask = X_train_rus.columns[selector.get_support()].to_list()\n",
        "\n",
        "  X_train_rus_selector = X_train_rus[mask]\n",
        "  \n",
        "  # creating a set for each list for comparison purposes\n",
        "  s1 = set(mask)\n",
        "  s2 = set(var_num)\n",
        "\n",
        "  if (s1.intersection(s2) == set()):\n",
        "    pipe = make_pipeline(model_lr)\n",
        "  \n",
        "  else:\n",
        "    num_scaled = ColumnTransformer([(\"Padronizar\", StandardScaler(), list(s1.intersection(s2)))],\n",
        "                         remainder='passthrough')\n",
        "\n",
        "    pipe = make_pipeline(num_scaled, model_lr)\n",
        "\n",
        "  score = cross_val_score(estimator = pipe,\n",
        "                          X = X_train_rus_selector,\n",
        "                          y = y_train_rus,\n",
        "                          scoring = 'roc_auc',\n",
        "                          cv = k_fold)\n",
        "  \n",
        "  #Armazenando k\n",
        "  k_val.append(k)\n",
        "  score_val.append(score.mean())\n",
        "\n",
        "df_feature_selection_lr = pd.DataFrame(data = score_val, index = k_val, columns = ['Score'])"
      ],
      "execution_count": 81,
      "outputs": []
    },
    {
      "cell_type": "code",
      "metadata": {
        "colab": {
          "base_uri": "https://localhost:8080/",
          "height": 501
        },
        "id": "iQjLX0bdQ6ms",
        "outputId": "81e948bb-4123-45bc-8da6-3318492762b1"
      },
      "source": [
        "#Definindo os parâmetros de style para o matplotlib\n",
        "rc_params = {'axes.edgecolor':'#787878', \n",
        "             'axes.titlecolor':'#787878', \n",
        "             'axes.labelcolor': '#787878', \n",
        "             'axes.spines.top':False, \n",
        "             'axes.spines.right': False, \n",
        "             'xtick.color': '#787878', \n",
        "             'ytick.color': '#787878',\n",
        "             'axes.titleweight': 'bold',\n",
        "             'axes.titlesize': 12\n",
        "             }\n",
        "\n",
        "#Aplicando os parâmetros no matplotlib/seaborn\n",
        "with plt.rc_context(rc_params):\n",
        "\n",
        "  #instanciando o axes e figure do matplotlib\n",
        "  fig, ax = plt.subplots(figsize = (22,8))\n",
        "\n",
        "  #Construindo o gráfico \n",
        "  sns.lineplot(\n",
        "                x = df_feature_selection_lr.index.to_list(),\n",
        "                y = df_feature_selection_lr['Score'],\n",
        "                ci = None,\n",
        "                ax = ax,\n",
        "              )\n",
        "  \n",
        "  #Colocando o título no gráfico\n",
        "  ax.set_title(\"ROC_AUC x K features\")\n",
        "\n",
        "  #Exibindo o gráfico\n",
        "\n",
        "  plt.show()"
      ],
      "execution_count": 82,
      "outputs": [
        {
          "output_type": "display_data",
          "data": {
            "image/png": "[encoded data removed]",
            "text/plain": [
              "<Figure size 1584x576 with 1 Axes>"
            ]
          },
          "metadata": {
            "needs_background": "light"
          }
        }
      ]
    },
    {
      "cell_type": "code",
      "metadata": {
        "id": "RhN-KJ5_cgtQ"
      },
      "source": [
        "# n_features with best score\n",
        "n_feature = (df_feature_selection_lr.index[df_feature_selection_lr['Score'] == df_feature_selection_lr['Score'].max()])[0]\n",
        "#find columns\n",
        "selector_lr = SelectFromModel(model_lr, \n",
        "                           max_features = n_feature, \n",
        "                           threshold = -np.inf)\n",
        "  \n",
        "selector_lr.fit(X_train_rus, y_train_rus)\n",
        "\n",
        "columns_features_lr = X_train_rus.columns[selector_lr.get_support()].to_list()"
      ],
      "execution_count": 121,
      "outputs": []
    },
    {
      "cell_type": "markdown",
      "metadata": {
        "id": "n63WBk9Cfyi1"
      },
      "source": [
        "### XGBoost"
      ]
    },
    {
      "cell_type": "code",
      "metadata": {
        "id": "rX719_cgf0gX"
      },
      "source": [
        "model_xgb = XGBClassifier(colsample_bytree= 0.8,\n",
        "                         gamma= 5,\n",
        "                         max_depth= 3,\n",
        "                         min_child_weight= 10,\n",
        "                         subsample= 1.0)\n",
        "\n",
        "# k features\n",
        "k_val = []\n",
        "score_val = []\n",
        "\n",
        "for k in range(2, X_train_rus.shape[1], 2):\n",
        "  selector = SelectFromModel(model_xgb, \n",
        "                             max_features = k, \n",
        "                             threshold = -np.inf)\n",
        "\n",
        "  selector.fit(X_train_rus, y_train_rus)\n",
        "  mask = X_train_rus.columns[selector.get_support()].to_list()\n",
        "\n",
        "  X_train_rus_selector = X_train_rus[mask]\n",
        "  \n",
        "  # creating a set for each list for comparison purposes\n",
        "  s1 = set(mask)\n",
        "  s2 = set(var_num)\n",
        "\n",
        "  if (s1.intersection(s2) == set()):\n",
        "    pipe = make_pipeline(model_xgb)\n",
        "  \n",
        "  else:\n",
        "    num_scaled = ColumnTransformer([(\"Padronizar\", StandardScaler(), list(s1.intersection(s2)))],\n",
        "                         remainder='passthrough')\n",
        "\n",
        "    pipe = make_pipeline(num_scaled, model_xgb)\n",
        "\n",
        "  score = cross_val_score(estimator = pipe,\n",
        "                          X = X_train_rus_selector,\n",
        "                          y = y_train_rus,\n",
        "                          scoring = 'roc_auc',\n",
        "                          cv = k_fold)\n",
        "  \n",
        "  #Armazenando k\n",
        "  k_val.append(k)\n",
        "  score_val.append(score.mean())\n",
        "\n",
        "df_feature_selection_xgb = pd.DataFrame(data = score_val, index = k_val, columns = ['Score'])"
      ],
      "execution_count": 126,
      "outputs": []
    },
    {
      "cell_type": "code",
      "metadata": {
        "colab": {
          "base_uri": "https://localhost:8080/",
          "height": 501
        },
        "id": "GQl9VdGCf0b6",
        "outputId": "e1119d0b-8b3d-4d19-8354-a5f155d84bd6"
      },
      "source": [
        "#Definindo os parâmetros de style para o matplotlib\n",
        "rc_params = {'axes.edgecolor':'#787878', \n",
        "             'axes.titlecolor':'#787878', \n",
        "             'axes.labelcolor': '#787878', \n",
        "             'axes.spines.top':False, \n",
        "             'axes.spines.right': False, \n",
        "             'xtick.color': '#787878', \n",
        "             'ytick.color': '#787878',\n",
        "             'axes.titleweight': 'bold',\n",
        "             'axes.titlesize': 12\n",
        "             }\n",
        "\n",
        "#Aplicando os parâmetros no matplotlib/seaborn\n",
        "with plt.rc_context(rc_params):\n",
        "\n",
        "  #instanciando o axes e figure do matplotlib\n",
        "  fig, ax = plt.subplots(figsize = (22,8))\n",
        "\n",
        "  #Construindo o gráfico \n",
        "  sns.lineplot(\n",
        "                x = df_feature_selection_xgb.index.to_list(),\n",
        "                y = df_feature_selection_xgb['Score'],\n",
        "                ci = None,\n",
        "                ax = ax,\n",
        "              )\n",
        "  \n",
        "  #Colocando o título no gráfico\n",
        "  ax.set_title(\"ROC_AUC x K features\")\n",
        "\n",
        "  #Exibindo o gráfico\n",
        "\n",
        "  plt.show()"
      ],
      "execution_count": 127,
      "outputs": [
        {
          "output_type": "display_data",
          "data": {
            "image/png": "[encoded data removed]",
            "text/plain": [
              "<Figure size 1584x576 with 1 Axes>"
            ]
          },
          "metadata": {
            "needs_background": "light"
          }
        }
      ]
    },
    {
      "cell_type": "code",
      "metadata": {
        "id": "WdkgLXg_f0T3"
      },
      "source": [
        "# n_features with best score\n",
        "n_feature = (df_feature_selection_xgb.index[df_feature_selection_xgb['Score'] == df_feature_selection_xgb['Score'].max()])[0]\n",
        "# n_feature = 60\n",
        "#find columns\n",
        "selector_xgb = SelectFromModel(model_xgb, \n",
        "                           max_features = n_feature, \n",
        "                           threshold = -np.inf)\n",
        "  \n",
        "selector_xgb.fit(X_train_rus, y_train_rus)\n",
        "\n",
        "columns_features_xgb = X_train_rus.columns[selector_xgb.get_support()].to_list()"
      ],
      "execution_count": 128,
      "outputs": []
    },
    {
      "cell_type": "markdown",
      "metadata": {
        "id": "tAm-D-nWRL8A"
      },
      "source": [
        "## Cutoff optimization"
      ]
    },
    {
      "cell_type": "markdown",
      "metadata": {
        "id": "7NI_SpIFmiHF"
      },
      "source": [
        "### Logistic Regression"
      ]
    },
    {
      "cell_type": "code",
      "metadata": {
        "id": "r3BtIsLKRNA1"
      },
      "source": [
        "# selecting the chosen features\n",
        "X_train_rus_selector_lr = X_train_rus[columns_features_lr]\n",
        "\n",
        "score_medio = []\n",
        "lista_cutoff = []\n",
        "\n",
        "for cont in range(1, 98, 1):\n",
        "  # varying the cutoff\n",
        "  cutoff = 0.01 + cont * 0.01\n",
        "\n",
        "  # K_fold split score\n",
        "  score_cutoff = []\n",
        "\n",
        "  # k_fold index\n",
        "  for train_index, test_index in k_fold.split(X_train_rus_selector_lr):\n",
        "\n",
        "    # k_fold index train and test split\n",
        "    X_train, X_test = X_train_rus_selector_lr.loc[train_index], X_train_rus_selector_lr.loc[test_index]\n",
        "    y_train, y_test = y_train_rus.loc[train_index], y_train_rus.loc[test_index]\n",
        "\n",
        "    scaler = StandardScaler()\n",
        "    \n",
        "    # standardizing numeric variables\n",
        "    for feature in columns_features_lr:\n",
        "      X_train[feature] = scaler.fit_transform(X_train[feature].values.reshape(-1,1))\n",
        "      X_test[feature] = scaler.transform(X_test[feature].values.reshape(-1,1))\n",
        "    \n",
        "    model_lr.fit(X = X_train, y = y_train)\n",
        "\n",
        "    y_proba = model_lr.predict_proba(X_test)\n",
        "    y_proba_df = pd.DataFrame(y_proba)\n",
        "\n",
        "    # defining the y value according to the cutoff\n",
        "    y_proba_df['Predict'] = y_proba_df[1].apply(lambda x: 1 if x > cutoff else 0)\n",
        "\n",
        "    # calculating the F1_Score metric with the cutoff\n",
        "    score_cutoff.append(f1_score(y_test, y_proba_df['Predict']))\n",
        "\n",
        "  lista_cutoff.append(cutoff)\n",
        "  score_medio.append(np.mean(score_cutoff))"
      ],
      "execution_count": 123,
      "outputs": []
    },
    {
      "cell_type": "code",
      "metadata": {
        "colab": {
          "base_uri": "https://localhost:8080/",
          "height": 80
        },
        "id": "ycYxvO5MRPwF",
        "outputId": "d4e70fb6-b320-4817-e551-5c8580ebdd0f"
      },
      "source": [
        "cutoff_df = pd.DataFrame(score_medio, index = lista_cutoff, columns = ['Cutoff'])\n",
        "\n",
        "# f_score max\n",
        "cutoff_df.loc[cutoff_df['Cutoff'] == cutoff_df['Cutoff'].max()]"
      ],
      "execution_count": 124,
      "outputs": [
        {
          "output_type": "execute_result",
          "data": {
            "text/html": [
              "<div>\n",
              "<style scoped>\n",
              "    .dataframe tbody tr th:only-of-type {\n",
              "        vertical-align: middle;\n",
              "    }\n",
              "\n",
              "    .dataframe tbody tr th {\n",
              "        vertical-align: top;\n",
              "    }\n",
              "\n",
              "    .dataframe thead th {\n",
              "        text-align: right;\n",
              "    }\n",
              "</style>\n",
              "<table border=\"1\" class=\"dataframe\">\n",
              "  <thead>\n",
              "    <tr style=\"text-align: right;\">\n",
              "      <th></th>\n",
              "      <th>Cutoff</th>\n",
              "    </tr>\n",
              "  </thead>\n",
              "  <tbody>\n",
              "    <tr>\n",
              "      <th>0.4</th>\n",
              "      <td>0.69666</td>\n",
              "    </tr>\n",
              "  </tbody>\n",
              "</table>\n",
              "</div>"
            ],
            "text/plain": [
              "      Cutoff\n",
              "0.4  0.69666"
            ]
          },
          "metadata": {},
          "execution_count": 124
        }
      ]
    },
    {
      "cell_type": "markdown",
      "metadata": {
        "id": "8cwRB20Zt50p"
      },
      "source": [
        "### XGBoost"
      ]
    },
    {
      "cell_type": "code",
      "metadata": {
        "id": "8t4o2mhAt7gw"
      },
      "source": [
        "# selecting the chosen features\n",
        "X_train_rus_selector_xgb = X_train_rus[columns_features_xgb]\n",
        "\n",
        "score_medio = []\n",
        "lista_cutoff = []\n",
        "\n",
        "for cont in range(1, 98, 1):\n",
        "  # varying the cutoff\n",
        "  cutoff = 0.01 + cont * 0.01\n",
        "\n",
        "  # K_fold split score\n",
        "  score_cutoff = []\n",
        "\n",
        "  # k_fold index\n",
        "  for train_index, test_index in k_fold.split(X_train_rus_selector_xgb):\n",
        "\n",
        "    # k_fold index train and test split\n",
        "    X_train, X_test = X_train_rus_selector_xgb.loc[train_index], X_train_rus_selector_xgb.loc[test_index]\n",
        "    y_train, y_test = y_train_rus.loc[train_index], y_train_rus.loc[test_index]\n",
        "\n",
        "    scaler = StandardScaler()\n",
        "    \n",
        "    # standardizing numeric variables\n",
        "    for feature in columns_features_xgb:\n",
        "      X_train[feature] = scaler.fit_transform(X_train[feature].values.reshape(-1,1))\n",
        "      X_test[feature] = scaler.transform(X_test[feature].values.reshape(-1,1))\n",
        "    \n",
        "    model_xgb.fit(X = X_train, y = y_train)\n",
        "\n",
        "    y_proba = model_xgb.predict_proba(X_test)\n",
        "    y_proba_df = pd.DataFrame(y_proba)\n",
        "\n",
        "    # defining the y value according to the cutoff\n",
        "    y_proba_df['Predict'] = y_proba_df[1].apply(lambda x: 1 if x > cutoff else 0)\n",
        "\n",
        "    # calculating the F1_Score metric with the cutoff\n",
        "    score_cutoff.append(f1_score(y_test, y_proba_df['Predict']))\n",
        "\n",
        "  lista_cutoff.append(cutoff)\n",
        "  score_medio.append(np.mean(score_cutoff))"
      ],
      "execution_count": 130,
      "outputs": []
    },
    {
      "cell_type": "code",
      "metadata": {
        "colab": {
          "base_uri": "https://localhost:8080/",
          "height": 80
        },
        "id": "9sM11yxauLz-",
        "outputId": "9f70e148-ab78-472d-f58a-2292dd121cf2"
      },
      "source": [
        "cutoff_df = pd.DataFrame(score_medio, index = lista_cutoff, columns = ['Cutoff'])\n",
        "\n",
        "# f_score max\n",
        "cutoff_df.loc[cutoff_df['Cutoff'] == cutoff_df['Cutoff'].max()]"
      ],
      "execution_count": 131,
      "outputs": [
        {
          "output_type": "execute_result",
          "data": {
            "text/html": [
              "<div>\n",
              "<style scoped>\n",
              "    .dataframe tbody tr th:only-of-type {\n",
              "        vertical-align: middle;\n",
              "    }\n",
              "\n",
              "    .dataframe tbody tr th {\n",
              "        vertical-align: top;\n",
              "    }\n",
              "\n",
              "    .dataframe thead th {\n",
              "        text-align: right;\n",
              "    }\n",
              "</style>\n",
              "<table border=\"1\" class=\"dataframe\">\n",
              "  <thead>\n",
              "    <tr style=\"text-align: right;\">\n",
              "      <th></th>\n",
              "      <th>Cutoff</th>\n",
              "    </tr>\n",
              "  </thead>\n",
              "  <tbody>\n",
              "    <tr>\n",
              "      <th>0.4</th>\n",
              "      <td>0.698718</td>\n",
              "    </tr>\n",
              "  </tbody>\n",
              "</table>\n",
              "</div>"
            ],
            "text/plain": [
              "       Cutoff\n",
              "0.4  0.698718"
            ]
          },
          "metadata": {},
          "execution_count": 131
        }
      ]
    },
    {
      "cell_type": "markdown",
      "metadata": {
        "id": "vOMoF7V3RVJl"
      },
      "source": [
        "## Evaluating"
      ]
    },
    {
      "cell_type": "markdown",
      "metadata": {
        "id": "Clvp1Bjsun3j"
      },
      "source": [
        "### Logistic Regression"
      ]
    },
    {
      "cell_type": "code",
      "metadata": {
        "id": "P-eQO_heRXmB"
      },
      "source": [
        "X_train_rus_scaled_lr = X_train_rus_selector_lr.copy()\n",
        "X_test_scaled_lr = X_test[columns_features_lr].copy()\n",
        "\n",
        "# standardizing numeric variables\n",
        "for feature in list(columns_features_lr):\n",
        "  X_train_rus_scaled_lr[feature] = scaler.fit_transform(X_train_rus_scaled_lr[feature].values.reshape(-1,1))\n",
        "\n",
        "  X_test_scaled_lr[feature] = scaler.transform(X_test_scaled_lr[feature].values.reshape(-1,1))\n",
        "\n",
        "model_lr.fit(X = X_train_rus_scaled_lr, y = y_train_rus)\n",
        "\n",
        "y_proba = model_lr.predict_proba(X_test_scaled_lr)\n",
        "y_proba_df = pd.DataFrame(y_proba)\n",
        "\n",
        "# calculating the prediction using the cutoff of 0.38\n",
        "y_proba_df['Predict'] = y_proba_df[1].apply(lambda x: 1 if x > 0.38 else 0)\n",
        "\n",
        "print(classification_report(y_test, y_proba_df['Predict']))\n",
        "print(\"AUC Score: \",roc_auc_score(y_test, y_proba[:,1]))\n",
        "print(\"--------------------------------------------------------------------\")\n",
        "\n",
        "\n",
        "fig, ax = plt.subplots()\n",
        "\n",
        "sns.heatmap(confusion_matrix(y_test, y_proba_df['Predict'], normalize = 'true'), \n",
        "            square=True, \n",
        "            annot=True, \n",
        "            cbar=False,\n",
        "            ax = ax)\n",
        "\n",
        "ax.set_xlabel(\"Previsão do Modelo\")\n",
        "ax.set_ylabel(\"Valor Verdadeiro\")\n",
        "ax.set_title(\"Matriz Confusão Regressão Logística\")\n",
        "\n",
        "plt.show()"
      ],
      "execution_count": null,
      "outputs": []
    },
    {
      "cell_type": "code",
      "metadata": {
        "id": "NkxXnxW1po3_"
      },
      "source": [
        "# save model\n",
        "filename = 'logistic_regression_undersampling.pkl'\n",
        "pickle.dump(model_lr, open(filename, 'wb'))\n",
        "\n",
        "\n",
        "# save scaler\n",
        "filename = 'scaler_lr_undersampling.sav'\n",
        "pickle.dump(scaler, open(filename, 'wb'))"
      ],
      "execution_count": 87,
      "outputs": []
    },
    {
      "cell_type": "markdown",
      "metadata": {
        "id": "aBSwYfQVx4RS"
      },
      "source": [
        "### XGBoost"
      ]
    },
    {
      "cell_type": "code",
      "metadata": {
        "id": "Z2dpSbf9x5w2",
        "colab": {
          "base_uri": "https://localhost:8080/",
          "height": 488
        },
        "outputId": "f07c405b-a967-4069-b464-5ac141635c0d"
      },
      "source": [
        "X_train_rus_scaled_xgb = X_train_rus_selector_xgb.copy()\n",
        "X_test_scaled_xgb = X_test[columns_features_xgb].copy()\n",
        "\n",
        "# standardizing numeric variables\n",
        "for feature in list(columns_features_xgb):\n",
        "  X_train_rus_scaled_xgb[feature] = scaler.fit_transform(X_train_rus_scaled_xgb[feature].values.reshape(-1,1))\n",
        "\n",
        "  X_test_scaled_xgb[feature] = scaler.transform(X_test_scaled_xgb[feature].values.reshape(-1,1))\n",
        "\n",
        "model_xgb.fit(X = X_train_rus_scaled_xgb, y = y_train_rus)\n",
        "\n",
        "y_proba = model_xgb.predict_proba(X_test_scaled_xgb)\n",
        "y_proba_df = pd.DataFrame(y_proba)\n",
        "\n",
        "# calculating the prediction using the cutoff of 0.34\n",
        "y_proba_df['Predict'] = y_proba_df[1].apply(lambda x: 1 if x > 0.4 else 0)\n",
        "\n",
        "print(classification_report(y_test, y_proba_df['Predict']))\n",
        "print(\"AUC Score: \",roc_auc_score(y_test, y_proba[:,1]))\n",
        "print(\"--------------------------------------------------------------------\")\n",
        "\n",
        "fig, ax = plt.subplots()\n",
        "\n",
        "sns.heatmap(confusion_matrix(y_test, y_proba_df['Predict'], normalize = 'true'), \n",
        "            square=True, \n",
        "            annot=True, \n",
        "            cbar=False,\n",
        "            ax = ax)\n",
        "\n",
        "ax.set_xlabel(\"Previsão do Modelo\")\n",
        "ax.set_ylabel(\"Valor Verdadeiro\")\n",
        "ax.set_title(\"Matriz Confusão XGBoost\")\n",
        "\n",
        "plt.show()"
      ],
      "execution_count": 138,
      "outputs": [
        {
          "output_type": "stream",
          "name": "stdout",
          "text": [
            "              precision    recall  f1-score   support\n",
            "\n",
            "           0       0.75      0.21      0.33       981\n",
            "           1       0.55      0.93      0.69      1013\n",
            "\n",
            "    accuracy                           0.58      1994\n",
            "   macro avg       0.65      0.57      0.51      1994\n",
            "weighted avg       0.65      0.58      0.51      1994\n",
            "\n",
            "AUC Score:  0.7082755976585731\n",
            "--------------------------------------------------------------------\n"
          ]
        },
        {
          "output_type": "display_data",
          "data": {
            "image/png": "[encoded data removed]",
            "text/plain": [
              "<Figure size 432x288 with 1 Axes>"
            ]
          },
          "metadata": {
            "needs_background": "light"
          }
        }
      ]
    },
    {
      "cell_type": "code",
      "metadata": {
        "id": "AsyI5es56VWv"
      },
      "source": [
        "0# save model\n",
        "filename = 'xgboost_undersampling.pkl'\n",
        "pickle.dump(model_lr, open(filename, 'wb'))\n",
        "\n",
        "# save scaler\n",
        "filename = 'scaler_xgb_undersampling.sav'\n",
        "pickle.dump(scaler, open(filename, 'wb'))"
      ],
      "execution_count": null,
      "outputs": []
    }
  ]
}